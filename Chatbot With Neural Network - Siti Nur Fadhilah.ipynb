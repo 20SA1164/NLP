{
  "nbformat": 4,
  "nbformat_minor": 0,
  "metadata": {
    "colab": {
      "provenance": [],
      "collapsed_sections": [],
      "include_colab_link": true
    },
    "kernelspec": {
      "name": "python3",
      "display_name": "Python 3"
    },
    "language_info": {
      "name": "python"
    }
  },
  "cells": [
    {
      "cell_type": "markdown",
      "metadata": {
        "id": "view-in-github",
        "colab_type": "text"
      },
      "source": [
        "<a href=\"https://colab.research.google.com/github/20SA1164/NLP/blob/main/Chatbot%20With%20Neural%20Network%20-%20Siti%20Nur%20Fadhilah.ipynb\" target=\"_parent\"><img src=\"https://colab.research.google.com/assets/colab-badge.svg\" alt=\"Open In Colab\"/></a>"
      ]
    },
    {
      "cell_type": "markdown",
      "source": [
        "# Chatbot With Neural Network"
      ],
      "metadata": {
        "id": "iw5Wh7WIPHCh"
      }
    },
    {
      "cell_type": "markdown",
      "source": [
        "## Mendownload Dataset"
      ],
      "metadata": {
        "id": "3leN7UdGPOMj"
      }
    },
    {
      "cell_type": "code",
      "source": [
        "#download dataset\n",
        "from urllib import request\n",
        "url = \"https://raw.githubusercontent.com/fendy07/chatbot-AI/master/kampus_merdeka.json\"\n",
        "request.urlretrieve(url, \"kampus_merdeka.json\")"
      ],
      "metadata": {
        "colab": {
          "base_uri": "https://localhost:8080/"
        },
        "id": "MN-CCGri5-YL",
        "outputId": "e209194c-9d2c-48b8-86b6-b28efd50b1bc"
      },
      "execution_count": null,
      "outputs": [
        {
          "output_type": "execute_result",
          "data": {
            "text/plain": [
              "('kampus_merdeka.json', <http.client.HTTPMessage at 0x7f873efae6d0>)"
            ]
          },
          "metadata": {},
          "execution_count": 1
        }
      ]
    },
    {
      "cell_type": "markdown",
      "source": [
        "## Load Gdrive"
      ],
      "metadata": {
        "id": "WRVLwS7TPf2_"
      }
    },
    {
      "cell_type": "code",
      "execution_count": null,
      "metadata": {
        "id": "ibnxRSJXrHRi",
        "colab": {
          "base_uri": "https://localhost:8080/"
        },
        "outputId": "45b0a92a-b272-4f59-c85e-1014f792b2e4"
      },
      "outputs": [
        {
          "output_type": "stream",
          "name": "stdout",
          "text": [
            "Mounted at /content/drive\n"
          ]
        }
      ],
      "source": [
        "#Load Gdrive\n",
        "from google.colab import drive\n",
        "drive.mount('/content/drive')"
      ]
    },
    {
      "cell_type": "markdown",
      "source": [
        "## Menginstall Library"
      ],
      "metadata": {
        "id": "vLgbTzSZPjd_"
      }
    },
    {
      "cell_type": "code",
      "source": [
        "#installasi Library\n",
        "!pip -q install speechrecognition\n",
        "!pip -q install gtts"
      ],
      "metadata": {
        "colab": {
          "base_uri": "https://localhost:8080/"
        },
        "id": "xR_22tsq4vlW",
        "outputId": "8304dd2a-4e28-4a84-a91d-6694f809380f"
      },
      "execution_count": null,
      "outputs": [
        {
          "output_type": "stream",
          "name": "stdout",
          "text": [
            "\u001b[K     |████████████████████████████████| 32.8 MB 1.4 MB/s \n",
            "\u001b[?25h"
          ]
        }
      ]
    },
    {
      "cell_type": "markdown",
      "source": [
        "## Mengimport Library"
      ],
      "metadata": {
        "id": "Dh7S-Bb3PnXp"
      }
    },
    {
      "cell_type": "code",
      "source": [
        "#import Libraries\n",
        "import json\n",
        "import nltk\n",
        "import time\n",
        "import random\n",
        "import string\n",
        "import pickle\n",
        "import numpy as np\n",
        "import pandas as pd\n",
        "from gtts import gTTS\n",
        "from io import BytesIO\n",
        "import tensorflow as tf\n",
        "import IPython.display as ipd\n",
        "import speech_recognition as sr \n",
        "import matplotlib.pyplot as plt\n",
        "from nltk.stem import WordNetLemmatizer\n",
        "from tensorflow.keras.models import Model\n",
        "from keras.utils.vis_utils import plot_model\n",
        "from sklearn.preprocessing import LabelEncoder\n",
        "from tensorflow.keras.preprocessing.text import Tokenizer\n",
        "from tensorflow.keras.layers import Input, Embedding, LSTM\n",
        "from tensorflow.keras.preprocessing.sequence import pad_sequences\n",
        "from tensorflow.keras.layers import Flatten, Dense, GlobalMaxPool1D"
      ],
      "metadata": {
        "id": "bgjQkNR_4vh5"
      },
      "execution_count": null,
      "outputs": []
    },
    {
      "cell_type": "markdown",
      "source": [
        "## Download NLTK Package"
      ],
      "metadata": {
        "id": "D8NBtD_eQ3yK"
      }
    },
    {
      "cell_type": "code",
      "source": [
        "nltk.download('punkt')\n",
        "nltk.download('wordnet')\n",
        "nltk.download('omw-1.4')"
      ],
      "metadata": {
        "colab": {
          "base_uri": "https://localhost:8080/"
        },
        "id": "zLIF9n2c5OFy",
        "outputId": "9840f558-0fbe-4c24-9521-8632fbafca40"
      },
      "execution_count": null,
      "outputs": [
        {
          "output_type": "stream",
          "name": "stderr",
          "text": [
            "[nltk_data] Downloading package punkt to /root/nltk_data...\n",
            "[nltk_data]   Unzipping tokenizers/punkt.zip.\n",
            "[nltk_data] Downloading package wordnet to /root/nltk_data...\n",
            "[nltk_data] Downloading package omw-1.4 to /root/nltk_data...\n"
          ]
        },
        {
          "output_type": "execute_result",
          "data": {
            "text/plain": [
              "True"
            ]
          },
          "metadata": {},
          "execution_count": 5
        }
      ]
    },
    {
      "cell_type": "markdown",
      "source": [
        "## Load Dataset Json"
      ],
      "metadata": {
        "id": "hb2D2So3Q5ps"
      }
    },
    {
      "cell_type": "code",
      "source": [
        "# Importing the dataset\n",
        "with open('/content/kampus_merdeka.json') as content:\n",
        "  data1 = json.load(content)\n",
        "\n",
        "# Mendapatkan semua data ke dalam list\n",
        "tags = [] # data tag\n",
        "inputs = [] # data input atau pattern\n",
        "responses = {} # data respon\n",
        "words = [] # Data kata \n",
        "classes = [] # Data Kelas atau Tag\n",
        "documents = [] # Data Kalimat Dokumen\n",
        "ignore_words = ['?', '!'] # Mengabaikan tanda spesial karakter\n",
        "\n",
        "for intent in data1['intents']:\n",
        "  responses[intent['tag']]=intent['responses']\n",
        "  for lines in intent['patterns']:\n",
        "    inputs.append(lines)\n",
        "    tags.append(intent['tag'])\n",
        "    for pattern in intent['patterns']:\n",
        "      w = nltk.word_tokenize(pattern)\n",
        "      words.extend(w)\n",
        "      documents.append((w, intent['tag']))\n",
        "      # add to our classes list\n",
        "      if intent['tag'] not in classes:\n",
        "        classes.append(intent['tag'])\n",
        "\n",
        "# Konversi data json ke dalam dataframe\n",
        "data = pd.DataFrame({\"patterns\":inputs, \"tags\":tags})"
      ],
      "metadata": {
        "id": "t7cL6ZAO5RFm"
      },
      "execution_count": null,
      "outputs": []
    },
    {
      "cell_type": "markdown",
      "source": [
        "## Menampilkan Semua Data"
      ],
      "metadata": {
        "id": "4Xcobh0uQ9RH"
      }
    },
    {
      "cell_type": "code",
      "source": [
        "#menampilkan data keseluruhan\n",
        "data"
      ],
      "metadata": {
        "colab": {
          "base_uri": "https://localhost:8080/",
          "height": 424
        },
        "id": "Wah8Cw2MB79E",
        "outputId": "24f601e0-9427-430b-a9d1-8a7ae58bfb0f"
      },
      "execution_count": null,
      "outputs": [
        {
          "output_type": "execute_result",
          "data": {
            "text/plain": [
              "                                             patterns  \\\n",
              "0                                               hallo   \n",
              "1                                                 hai   \n",
              "2                                                halo   \n",
              "3                                                 hei   \n",
              "4                                                  hi   \n",
              "..                                                ...   \n",
              "75                                      Apa itu PMMB?   \n",
              "76                        Apa saja persyaratan IISMA?   \n",
              "77  Bagaimana periode pelaksanaan dan cara mendaft...   \n",
              "78           Apa saja manfaat apabila mengikuti PMMB?   \n",
              "79  Apa saja universitas yang tergabung dalam prog...   \n",
              "\n",
              "                            tags  \n",
              "0                       greeting  \n",
              "1                       greeting  \n",
              "2                       greeting  \n",
              "3                       greeting  \n",
              "4                       greeting  \n",
              "..                           ...  \n",
              "75               penjelasan_PMMB  \n",
              "76             persyaratan_IISMA  \n",
              "77  periode_dan_pendaftaran_PMMB  \n",
              "78                  manfaat_PMMB  \n",
              "79                    mitra_PMMB  \n",
              "\n",
              "[80 rows x 2 columns]"
            ],
            "text/html": [
              "\n",
              "  <div id=\"df-5e6ab6ae-c752-4951-b690-d3dae2974ee8\">\n",
              "    <div class=\"colab-df-container\">\n",
              "      <div>\n",
              "<style scoped>\n",
              "    .dataframe tbody tr th:only-of-type {\n",
              "        vertical-align: middle;\n",
              "    }\n",
              "\n",
              "    .dataframe tbody tr th {\n",
              "        vertical-align: top;\n",
              "    }\n",
              "\n",
              "    .dataframe thead th {\n",
              "        text-align: right;\n",
              "    }\n",
              "</style>\n",
              "<table border=\"1\" class=\"dataframe\">\n",
              "  <thead>\n",
              "    <tr style=\"text-align: right;\">\n",
              "      <th></th>\n",
              "      <th>patterns</th>\n",
              "      <th>tags</th>\n",
              "    </tr>\n",
              "  </thead>\n",
              "  <tbody>\n",
              "    <tr>\n",
              "      <th>0</th>\n",
              "      <td>hallo</td>\n",
              "      <td>greeting</td>\n",
              "    </tr>\n",
              "    <tr>\n",
              "      <th>1</th>\n",
              "      <td>hai</td>\n",
              "      <td>greeting</td>\n",
              "    </tr>\n",
              "    <tr>\n",
              "      <th>2</th>\n",
              "      <td>halo</td>\n",
              "      <td>greeting</td>\n",
              "    </tr>\n",
              "    <tr>\n",
              "      <th>3</th>\n",
              "      <td>hei</td>\n",
              "      <td>greeting</td>\n",
              "    </tr>\n",
              "    <tr>\n",
              "      <th>4</th>\n",
              "      <td>hi</td>\n",
              "      <td>greeting</td>\n",
              "    </tr>\n",
              "    <tr>\n",
              "      <th>...</th>\n",
              "      <td>...</td>\n",
              "      <td>...</td>\n",
              "    </tr>\n",
              "    <tr>\n",
              "      <th>75</th>\n",
              "      <td>Apa itu PMMB?</td>\n",
              "      <td>penjelasan_PMMB</td>\n",
              "    </tr>\n",
              "    <tr>\n",
              "      <th>76</th>\n",
              "      <td>Apa saja persyaratan IISMA?</td>\n",
              "      <td>persyaratan_IISMA</td>\n",
              "    </tr>\n",
              "    <tr>\n",
              "      <th>77</th>\n",
              "      <td>Bagaimana periode pelaksanaan dan cara mendaft...</td>\n",
              "      <td>periode_dan_pendaftaran_PMMB</td>\n",
              "    </tr>\n",
              "    <tr>\n",
              "      <th>78</th>\n",
              "      <td>Apa saja manfaat apabila mengikuti PMMB?</td>\n",
              "      <td>manfaat_PMMB</td>\n",
              "    </tr>\n",
              "    <tr>\n",
              "      <th>79</th>\n",
              "      <td>Apa saja universitas yang tergabung dalam prog...</td>\n",
              "      <td>mitra_PMMB</td>\n",
              "    </tr>\n",
              "  </tbody>\n",
              "</table>\n",
              "<p>80 rows × 2 columns</p>\n",
              "</div>\n",
              "      <button class=\"colab-df-convert\" onclick=\"convertToInteractive('df-5e6ab6ae-c752-4951-b690-d3dae2974ee8')\"\n",
              "              title=\"Convert this dataframe to an interactive table.\"\n",
              "              style=\"display:none;\">\n",
              "        \n",
              "  <svg xmlns=\"http://www.w3.org/2000/svg\" height=\"24px\"viewBox=\"0 0 24 24\"\n",
              "       width=\"24px\">\n",
              "    <path d=\"M0 0h24v24H0V0z\" fill=\"none\"/>\n",
              "    <path d=\"M18.56 5.44l.94 2.06.94-2.06 2.06-.94-2.06-.94-.94-2.06-.94 2.06-2.06.94zm-11 1L8.5 8.5l.94-2.06 2.06-.94-2.06-.94L8.5 2.5l-.94 2.06-2.06.94zm10 10l.94 2.06.94-2.06 2.06-.94-2.06-.94-.94-2.06-.94 2.06-2.06.94z\"/><path d=\"M17.41 7.96l-1.37-1.37c-.4-.4-.92-.59-1.43-.59-.52 0-1.04.2-1.43.59L10.3 9.45l-7.72 7.72c-.78.78-.78 2.05 0 2.83L4 21.41c.39.39.9.59 1.41.59.51 0 1.02-.2 1.41-.59l7.78-7.78 2.81-2.81c.8-.78.8-2.07 0-2.86zM5.41 20L4 18.59l7.72-7.72 1.47 1.35L5.41 20z\"/>\n",
              "  </svg>\n",
              "      </button>\n",
              "      \n",
              "  <style>\n",
              "    .colab-df-container {\n",
              "      display:flex;\n",
              "      flex-wrap:wrap;\n",
              "      gap: 12px;\n",
              "    }\n",
              "\n",
              "    .colab-df-convert {\n",
              "      background-color: #E8F0FE;\n",
              "      border: none;\n",
              "      border-radius: 50%;\n",
              "      cursor: pointer;\n",
              "      display: none;\n",
              "      fill: #1967D2;\n",
              "      height: 32px;\n",
              "      padding: 0 0 0 0;\n",
              "      width: 32px;\n",
              "    }\n",
              "\n",
              "    .colab-df-convert:hover {\n",
              "      background-color: #E2EBFA;\n",
              "      box-shadow: 0px 1px 2px rgba(60, 64, 67, 0.3), 0px 1px 3px 1px rgba(60, 64, 67, 0.15);\n",
              "      fill: #174EA6;\n",
              "    }\n",
              "\n",
              "    [theme=dark] .colab-df-convert {\n",
              "      background-color: #3B4455;\n",
              "      fill: #D2E3FC;\n",
              "    }\n",
              "\n",
              "    [theme=dark] .colab-df-convert:hover {\n",
              "      background-color: #434B5C;\n",
              "      box-shadow: 0px 1px 3px 1px rgba(0, 0, 0, 0.15);\n",
              "      filter: drop-shadow(0px 1px 2px rgba(0, 0, 0, 0.3));\n",
              "      fill: #FFFFFF;\n",
              "    }\n",
              "  </style>\n",
              "\n",
              "      <script>\n",
              "        const buttonEl =\n",
              "          document.querySelector('#df-5e6ab6ae-c752-4951-b690-d3dae2974ee8 button.colab-df-convert');\n",
              "        buttonEl.style.display =\n",
              "          google.colab.kernel.accessAllowed ? 'block' : 'none';\n",
              "\n",
              "        async function convertToInteractive(key) {\n",
              "          const element = document.querySelector('#df-5e6ab6ae-c752-4951-b690-d3dae2974ee8');\n",
              "          const dataTable =\n",
              "            await google.colab.kernel.invokeFunction('convertToInteractive',\n",
              "                                                     [key], {});\n",
              "          if (!dataTable) return;\n",
              "\n",
              "          const docLinkHtml = 'Like what you see? Visit the ' +\n",
              "            '<a target=\"_blank\" href=https://colab.research.google.com/notebooks/data_table.ipynb>data table notebook</a>'\n",
              "            + ' to learn more about interactive tables.';\n",
              "          element.innerHTML = '';\n",
              "          dataTable['output_type'] = 'display_data';\n",
              "          await google.colab.output.renderOutput(dataTable, element);\n",
              "          const docLink = document.createElement('div');\n",
              "          docLink.innerHTML = docLinkHtml;\n",
              "          element.appendChild(docLink);\n",
              "        }\n",
              "      </script>\n",
              "    </div>\n",
              "  </div>\n",
              "  "
            ]
          },
          "metadata": {},
          "execution_count": 7
        }
      ]
    },
    {
      "cell_type": "markdown",
      "source": [
        "## Menampilkan baris pertama sampai baris kelima"
      ],
      "metadata": {
        "id": "6yQP9aIGRBtt"
      }
    },
    {
      "cell_type": "code",
      "source": [
        "# Cetak data baris pertama sampai baris kelima\n",
        "data.head()"
      ],
      "metadata": {
        "colab": {
          "base_uri": "https://localhost:8080/",
          "height": 206
        },
        "id": "40fvLfloCEIP",
        "outputId": "9e015637-d502-4138-8986-7d963da82cc7"
      },
      "execution_count": null,
      "outputs": [
        {
          "output_type": "execute_result",
          "data": {
            "text/plain": [
              "  patterns      tags\n",
              "0    hallo  greeting\n",
              "1      hai  greeting\n",
              "2     halo  greeting\n",
              "3      hei  greeting\n",
              "4       hi  greeting"
            ],
            "text/html": [
              "\n",
              "  <div id=\"df-39c8a227-6a45-4f43-8597-f6e7d7f13c67\">\n",
              "    <div class=\"colab-df-container\">\n",
              "      <div>\n",
              "<style scoped>\n",
              "    .dataframe tbody tr th:only-of-type {\n",
              "        vertical-align: middle;\n",
              "    }\n",
              "\n",
              "    .dataframe tbody tr th {\n",
              "        vertical-align: top;\n",
              "    }\n",
              "\n",
              "    .dataframe thead th {\n",
              "        text-align: right;\n",
              "    }\n",
              "</style>\n",
              "<table border=\"1\" class=\"dataframe\">\n",
              "  <thead>\n",
              "    <tr style=\"text-align: right;\">\n",
              "      <th></th>\n",
              "      <th>patterns</th>\n",
              "      <th>tags</th>\n",
              "    </tr>\n",
              "  </thead>\n",
              "  <tbody>\n",
              "    <tr>\n",
              "      <th>0</th>\n",
              "      <td>hallo</td>\n",
              "      <td>greeting</td>\n",
              "    </tr>\n",
              "    <tr>\n",
              "      <th>1</th>\n",
              "      <td>hai</td>\n",
              "      <td>greeting</td>\n",
              "    </tr>\n",
              "    <tr>\n",
              "      <th>2</th>\n",
              "      <td>halo</td>\n",
              "      <td>greeting</td>\n",
              "    </tr>\n",
              "    <tr>\n",
              "      <th>3</th>\n",
              "      <td>hei</td>\n",
              "      <td>greeting</td>\n",
              "    </tr>\n",
              "    <tr>\n",
              "      <th>4</th>\n",
              "      <td>hi</td>\n",
              "      <td>greeting</td>\n",
              "    </tr>\n",
              "  </tbody>\n",
              "</table>\n",
              "</div>\n",
              "      <button class=\"colab-df-convert\" onclick=\"convertToInteractive('df-39c8a227-6a45-4f43-8597-f6e7d7f13c67')\"\n",
              "              title=\"Convert this dataframe to an interactive table.\"\n",
              "              style=\"display:none;\">\n",
              "        \n",
              "  <svg xmlns=\"http://www.w3.org/2000/svg\" height=\"24px\"viewBox=\"0 0 24 24\"\n",
              "       width=\"24px\">\n",
              "    <path d=\"M0 0h24v24H0V0z\" fill=\"none\"/>\n",
              "    <path d=\"M18.56 5.44l.94 2.06.94-2.06 2.06-.94-2.06-.94-.94-2.06-.94 2.06-2.06.94zm-11 1L8.5 8.5l.94-2.06 2.06-.94-2.06-.94L8.5 2.5l-.94 2.06-2.06.94zm10 10l.94 2.06.94-2.06 2.06-.94-2.06-.94-.94-2.06-.94 2.06-2.06.94z\"/><path d=\"M17.41 7.96l-1.37-1.37c-.4-.4-.92-.59-1.43-.59-.52 0-1.04.2-1.43.59L10.3 9.45l-7.72 7.72c-.78.78-.78 2.05 0 2.83L4 21.41c.39.39.9.59 1.41.59.51 0 1.02-.2 1.41-.59l7.78-7.78 2.81-2.81c.8-.78.8-2.07 0-2.86zM5.41 20L4 18.59l7.72-7.72 1.47 1.35L5.41 20z\"/>\n",
              "  </svg>\n",
              "      </button>\n",
              "      \n",
              "  <style>\n",
              "    .colab-df-container {\n",
              "      display:flex;\n",
              "      flex-wrap:wrap;\n",
              "      gap: 12px;\n",
              "    }\n",
              "\n",
              "    .colab-df-convert {\n",
              "      background-color: #E8F0FE;\n",
              "      border: none;\n",
              "      border-radius: 50%;\n",
              "      cursor: pointer;\n",
              "      display: none;\n",
              "      fill: #1967D2;\n",
              "      height: 32px;\n",
              "      padding: 0 0 0 0;\n",
              "      width: 32px;\n",
              "    }\n",
              "\n",
              "    .colab-df-convert:hover {\n",
              "      background-color: #E2EBFA;\n",
              "      box-shadow: 0px 1px 2px rgba(60, 64, 67, 0.3), 0px 1px 3px 1px rgba(60, 64, 67, 0.15);\n",
              "      fill: #174EA6;\n",
              "    }\n",
              "\n",
              "    [theme=dark] .colab-df-convert {\n",
              "      background-color: #3B4455;\n",
              "      fill: #D2E3FC;\n",
              "    }\n",
              "\n",
              "    [theme=dark] .colab-df-convert:hover {\n",
              "      background-color: #434B5C;\n",
              "      box-shadow: 0px 1px 3px 1px rgba(0, 0, 0, 0.15);\n",
              "      filter: drop-shadow(0px 1px 2px rgba(0, 0, 0, 0.3));\n",
              "      fill: #FFFFFF;\n",
              "    }\n",
              "  </style>\n",
              "\n",
              "      <script>\n",
              "        const buttonEl =\n",
              "          document.querySelector('#df-39c8a227-6a45-4f43-8597-f6e7d7f13c67 button.colab-df-convert');\n",
              "        buttonEl.style.display =\n",
              "          google.colab.kernel.accessAllowed ? 'block' : 'none';\n",
              "\n",
              "        async function convertToInteractive(key) {\n",
              "          const element = document.querySelector('#df-39c8a227-6a45-4f43-8597-f6e7d7f13c67');\n",
              "          const dataTable =\n",
              "            await google.colab.kernel.invokeFunction('convertToInteractive',\n",
              "                                                     [key], {});\n",
              "          if (!dataTable) return;\n",
              "\n",
              "          const docLinkHtml = 'Like what you see? Visit the ' +\n",
              "            '<a target=\"_blank\" href=https://colab.research.google.com/notebooks/data_table.ipynb>data table notebook</a>'\n",
              "            + ' to learn more about interactive tables.';\n",
              "          element.innerHTML = '';\n",
              "          dataTable['output_type'] = 'display_data';\n",
              "          await google.colab.output.renderOutput(dataTable, element);\n",
              "          const docLink = document.createElement('div');\n",
              "          docLink.innerHTML = docLinkHtml;\n",
              "          element.appendChild(docLink);\n",
              "        }\n",
              "      </script>\n",
              "    </div>\n",
              "  </div>\n",
              "  "
            ]
          },
          "metadata": {},
          "execution_count": 8
        }
      ]
    },
    {
      "cell_type": "markdown",
      "source": [
        "## Menampilkan data baris ke -70 dampai baris terakhir"
      ],
      "metadata": {
        "id": "27Cbxpp1RNM1"
      }
    },
    {
      "cell_type": "code",
      "source": [
        "# Cetak data baris ke-70 sampai baris akhir\n",
        "data.tail(10)"
      ],
      "metadata": {
        "colab": {
          "base_uri": "https://localhost:8080/",
          "height": 363
        },
        "id": "RMXrI46kCMMM",
        "outputId": "d91f2fc5-b094-4f56-e529-cce8503658f9"
      },
      "execution_count": null,
      "outputs": [
        {
          "output_type": "execute_result",
          "data": {
            "text/plain": [
              "                                             patterns  \\\n",
              "70  Apa saja manfaat apabila mengikuti Pertukaran ...   \n",
              "71                              Apa itu Pejuang Muda?   \n",
              "72                 Apa saja persyaratan Pejuang Muda?   \n",
              "73  Bagaimana periode pelaksanaan dan cara mendaft...   \n",
              "74   Apa saja manfaat apabila mengikuti Pejuang Muda?   \n",
              "75                                      Apa itu PMMB?   \n",
              "76                        Apa saja persyaratan IISMA?   \n",
              "77  Bagaimana periode pelaksanaan dan cara mendaft...   \n",
              "78           Apa saja manfaat apabila mengikuti PMMB?   \n",
              "79  Apa saja universitas yang tergabung dalam prog...   \n",
              "\n",
              "                                    tags  \n",
              "70          manfaat_pertukaran_mahasiswa  \n",
              "71               penjelasan_pejuang_muda  \n",
              "72              persyaratan_pejuang_muda  \n",
              "73  periode_dan_pendaftaran_pejuang_muda  \n",
              "74                  manfaat_pejuang_muda  \n",
              "75                       penjelasan_PMMB  \n",
              "76                     persyaratan_IISMA  \n",
              "77          periode_dan_pendaftaran_PMMB  \n",
              "78                          manfaat_PMMB  \n",
              "79                            mitra_PMMB  "
            ],
            "text/html": [
              "\n",
              "  <div id=\"df-230e59f2-e506-4925-a744-3e4b3414a4a8\">\n",
              "    <div class=\"colab-df-container\">\n",
              "      <div>\n",
              "<style scoped>\n",
              "    .dataframe tbody tr th:only-of-type {\n",
              "        vertical-align: middle;\n",
              "    }\n",
              "\n",
              "    .dataframe tbody tr th {\n",
              "        vertical-align: top;\n",
              "    }\n",
              "\n",
              "    .dataframe thead th {\n",
              "        text-align: right;\n",
              "    }\n",
              "</style>\n",
              "<table border=\"1\" class=\"dataframe\">\n",
              "  <thead>\n",
              "    <tr style=\"text-align: right;\">\n",
              "      <th></th>\n",
              "      <th>patterns</th>\n",
              "      <th>tags</th>\n",
              "    </tr>\n",
              "  </thead>\n",
              "  <tbody>\n",
              "    <tr>\n",
              "      <th>70</th>\n",
              "      <td>Apa saja manfaat apabila mengikuti Pertukaran ...</td>\n",
              "      <td>manfaat_pertukaran_mahasiswa</td>\n",
              "    </tr>\n",
              "    <tr>\n",
              "      <th>71</th>\n",
              "      <td>Apa itu Pejuang Muda?</td>\n",
              "      <td>penjelasan_pejuang_muda</td>\n",
              "    </tr>\n",
              "    <tr>\n",
              "      <th>72</th>\n",
              "      <td>Apa saja persyaratan Pejuang Muda?</td>\n",
              "      <td>persyaratan_pejuang_muda</td>\n",
              "    </tr>\n",
              "    <tr>\n",
              "      <th>73</th>\n",
              "      <td>Bagaimana periode pelaksanaan dan cara mendaft...</td>\n",
              "      <td>periode_dan_pendaftaran_pejuang_muda</td>\n",
              "    </tr>\n",
              "    <tr>\n",
              "      <th>74</th>\n",
              "      <td>Apa saja manfaat apabila mengikuti Pejuang Muda?</td>\n",
              "      <td>manfaat_pejuang_muda</td>\n",
              "    </tr>\n",
              "    <tr>\n",
              "      <th>75</th>\n",
              "      <td>Apa itu PMMB?</td>\n",
              "      <td>penjelasan_PMMB</td>\n",
              "    </tr>\n",
              "    <tr>\n",
              "      <th>76</th>\n",
              "      <td>Apa saja persyaratan IISMA?</td>\n",
              "      <td>persyaratan_IISMA</td>\n",
              "    </tr>\n",
              "    <tr>\n",
              "      <th>77</th>\n",
              "      <td>Bagaimana periode pelaksanaan dan cara mendaft...</td>\n",
              "      <td>periode_dan_pendaftaran_PMMB</td>\n",
              "    </tr>\n",
              "    <tr>\n",
              "      <th>78</th>\n",
              "      <td>Apa saja manfaat apabila mengikuti PMMB?</td>\n",
              "      <td>manfaat_PMMB</td>\n",
              "    </tr>\n",
              "    <tr>\n",
              "      <th>79</th>\n",
              "      <td>Apa saja universitas yang tergabung dalam prog...</td>\n",
              "      <td>mitra_PMMB</td>\n",
              "    </tr>\n",
              "  </tbody>\n",
              "</table>\n",
              "</div>\n",
              "      <button class=\"colab-df-convert\" onclick=\"convertToInteractive('df-230e59f2-e506-4925-a744-3e4b3414a4a8')\"\n",
              "              title=\"Convert this dataframe to an interactive table.\"\n",
              "              style=\"display:none;\">\n",
              "        \n",
              "  <svg xmlns=\"http://www.w3.org/2000/svg\" height=\"24px\"viewBox=\"0 0 24 24\"\n",
              "       width=\"24px\">\n",
              "    <path d=\"M0 0h24v24H0V0z\" fill=\"none\"/>\n",
              "    <path d=\"M18.56 5.44l.94 2.06.94-2.06 2.06-.94-2.06-.94-.94-2.06-.94 2.06-2.06.94zm-11 1L8.5 8.5l.94-2.06 2.06-.94-2.06-.94L8.5 2.5l-.94 2.06-2.06.94zm10 10l.94 2.06.94-2.06 2.06-.94-2.06-.94-.94-2.06-.94 2.06-2.06.94z\"/><path d=\"M17.41 7.96l-1.37-1.37c-.4-.4-.92-.59-1.43-.59-.52 0-1.04.2-1.43.59L10.3 9.45l-7.72 7.72c-.78.78-.78 2.05 0 2.83L4 21.41c.39.39.9.59 1.41.59.51 0 1.02-.2 1.41-.59l7.78-7.78 2.81-2.81c.8-.78.8-2.07 0-2.86zM5.41 20L4 18.59l7.72-7.72 1.47 1.35L5.41 20z\"/>\n",
              "  </svg>\n",
              "      </button>\n",
              "      \n",
              "  <style>\n",
              "    .colab-df-container {\n",
              "      display:flex;\n",
              "      flex-wrap:wrap;\n",
              "      gap: 12px;\n",
              "    }\n",
              "\n",
              "    .colab-df-convert {\n",
              "      background-color: #E8F0FE;\n",
              "      border: none;\n",
              "      border-radius: 50%;\n",
              "      cursor: pointer;\n",
              "      display: none;\n",
              "      fill: #1967D2;\n",
              "      height: 32px;\n",
              "      padding: 0 0 0 0;\n",
              "      width: 32px;\n",
              "    }\n",
              "\n",
              "    .colab-df-convert:hover {\n",
              "      background-color: #E2EBFA;\n",
              "      box-shadow: 0px 1px 2px rgba(60, 64, 67, 0.3), 0px 1px 3px 1px rgba(60, 64, 67, 0.15);\n",
              "      fill: #174EA6;\n",
              "    }\n",
              "\n",
              "    [theme=dark] .colab-df-convert {\n",
              "      background-color: #3B4455;\n",
              "      fill: #D2E3FC;\n",
              "    }\n",
              "\n",
              "    [theme=dark] .colab-df-convert:hover {\n",
              "      background-color: #434B5C;\n",
              "      box-shadow: 0px 1px 3px 1px rgba(0, 0, 0, 0.15);\n",
              "      filter: drop-shadow(0px 1px 2px rgba(0, 0, 0, 0.3));\n",
              "      fill: #FFFFFF;\n",
              "    }\n",
              "  </style>\n",
              "\n",
              "      <script>\n",
              "        const buttonEl =\n",
              "          document.querySelector('#df-230e59f2-e506-4925-a744-3e4b3414a4a8 button.colab-df-convert');\n",
              "        buttonEl.style.display =\n",
              "          google.colab.kernel.accessAllowed ? 'block' : 'none';\n",
              "\n",
              "        async function convertToInteractive(key) {\n",
              "          const element = document.querySelector('#df-230e59f2-e506-4925-a744-3e4b3414a4a8');\n",
              "          const dataTable =\n",
              "            await google.colab.kernel.invokeFunction('convertToInteractive',\n",
              "                                                     [key], {});\n",
              "          if (!dataTable) return;\n",
              "\n",
              "          const docLinkHtml = 'Like what you see? Visit the ' +\n",
              "            '<a target=\"_blank\" href=https://colab.research.google.com/notebooks/data_table.ipynb>data table notebook</a>'\n",
              "            + ' to learn more about interactive tables.';\n",
              "          element.innerHTML = '';\n",
              "          dataTable['output_type'] = 'display_data';\n",
              "          await google.colab.output.renderOutput(dataTable, element);\n",
              "          const docLink = document.createElement('div');\n",
              "          docLink.innerHTML = docLinkHtml;\n",
              "          element.appendChild(docLink);\n",
              "        }\n",
              "      </script>\n",
              "    </div>\n",
              "  </div>\n",
              "  "
            ]
          },
          "metadata": {},
          "execution_count": 9
        }
      ]
    },
    {
      "cell_type": "markdown",
      "source": [
        "## Remove Punctuations"
      ],
      "metadata": {
        "id": "6q1cHJLARW2e"
      }
    },
    {
      "cell_type": "code",
      "source": [
        "data['patterns'] = data['patterns'].apply(lambda wrd:[ltrs.lower()for ltrs in wrd if ltrs not in string.punctuation])\n",
        "data['patterns'] = data['patterns'].apply(lambda wrd: ''.join(wrd))"
      ],
      "metadata": {
        "id": "3r5eN3kI6pxE"
      },
      "execution_count": null,
      "outputs": []
    },
    {
      "cell_type": "markdown",
      "source": [
        "## Lemmatization (Lematisasi)"
      ],
      "metadata": {
        "id": "X_-87VKrRYEe"
      }
    },
    {
      "cell_type": "code",
      "source": [
        "lemmatizer = WordNetLemmatizer()\n",
        "words = [lemmatizer.lemmatize(w.lower()) for w in words if w not in ignore_words]\n",
        "words = sorted(list(set(words)))\n",
        "\n",
        "print(len(words), \"Unique lemmatized words\", words)"
      ],
      "metadata": {
        "colab": {
          "base_uri": "https://localhost:8080/"
        },
        "id": "iEjaaYdpAdkm",
        "outputId": "9d8d8392-fa69-47b1-cf74-ee23e3c5a55f"
      },
      "execution_count": null,
      "outputs": [
        {
          "output_type": "stream",
          "name": "stdout",
          "text": [
            "78 Unique lemmatized words [',', 'afternoon', 'apa', 'apabila', 'bagaimana', 'bai', 'banyak', 'bersertifikat', 'bro', 'buat', 'bumn', 'bye', 'byee', 'cara', 'dadah', 'dah', 'dalam', 'dan', 'good', 'hai', 'hallo', 'halo', 'hei', 'hi', 'hy', 'iisma', 'independen', 'itu', 'jumpa', 'kadek', 'kadekbot', 'kampus', 'kamu', 'kasih', 'kawan', 'kemendikbud', 'kemensos', 'magang', 'mahasiswa', 'makasih', 'malam', 'manfaat', 'mendaftar', 'mengajar', 'mengikuti', 'merdeka', 'mitra', 'morning', 'muda', 'pagi', 'pejuang', 'pelaksanaan', 'pembuatmu', 'penciptamu', 'periode', 'persyaratan', 'pertukaran', 'pmmb', 'program', 'saja', 'sampai', 'see', 'selamat', 'si', 'siang', 'siapa', 'sih', 'sore', 'studi', 'tergabung', 'terima', 'thank', 'thanks', 'tinggal', 'tujuan', 'universitas', 'yang', 'you']\n"
          ]
        }
      ]
    },
    {
      "cell_type": "markdown",
      "source": [
        "## Menyortir Data Kelas Tags"
      ],
      "metadata": {
        "id": "V36X30aCRcTp"
      }
    },
    {
      "cell_type": "code",
      "source": [
        "# sort classes\n",
        "classes = sorted(list(set(classes)))\n",
        "print (len(classes), \"classes\", classes)"
      ],
      "metadata": {
        "colab": {
          "base_uri": "https://localhost:8080/"
        },
        "id": "jnwZCiMQBMP1",
        "outputId": "8c9ab3f5-e931-49e9-970b-ac58a80a1410"
      },
      "execution_count": null,
      "outputs": [
        {
          "output_type": "stream",
          "name": "stdout",
          "text": [
            "40 classes ['goodbye', 'greeting', 'kadekbot', 'manfaat_IISMA', 'manfaat_PMMB', 'manfaat_kampus_mengajar', 'manfaat_magang', 'manfaat_pejuang_muda', 'manfaat_pertukaran_mahasiswa', 'manfaat_studi_independen', 'mitra_IISMA', 'mitra_PMMB', 'mitra_magang', 'mitra_studi_independen', 'pencipta_kadekbot', 'penjelasan_IISMA', 'penjelasan_PMMB', 'penjelasan_kampus_mengajar', 'penjelasan_kampus_merdeka', 'penjelasan_magang', 'penjelasan_pejuang_muda', 'penjelasan_pertukaran_mahasiswa', 'penjelasan_studi_independen', 'periode_dan_pendaftaran_IISMA', 'periode_dan_pendaftaran_PMMB', 'periode_dan_pendaftaran_kampus_mengajar', 'periode_dan_pendaftaran_magang', 'periode_dan_pendaftaran_pejuang_muda', 'periode_dan_pendaftaran_pertukaran_mahasiswa', 'periode_dan_pendaftaran_studi_independen', 'persyaratan_IISMA', 'persyaratan_kampus_mengajar', 'persyaratan_kampus_merdeka', 'persyaratan_magang', 'persyaratan_pejuang_muda', 'persyaratan_pertukaran_mahasiswa', 'persyaratan_studi_independen', 'program_kampus_merdeka', 'terimakasih', 'tujuan_kampus_merdeka']\n"
          ]
        }
      ]
    },
    {
      "cell_type": "markdown",
      "source": [
        "## Mencari Jumlah Keseluruhan Data Teks"
      ],
      "metadata": {
        "id": "QRaQ4zH6RgNp"
      }
    },
    {
      "cell_type": "code",
      "source": [
        "# documents = combination between patterns and intents\n",
        "print (len(documents), \"documents\")"
      ],
      "metadata": {
        "colab": {
          "base_uri": "https://localhost:8080/"
        },
        "id": "_zmAB09CBP7N",
        "outputId": "d74d41fe-0f9f-4ff4-bed7-438708fbd296"
      },
      "execution_count": null,
      "outputs": [
        {
          "output_type": "stream",
          "name": "stdout",
          "text": [
            "438 documents\n"
          ]
        }
      ]
    },
    {
      "cell_type": "markdown",
      "source": [
        "## Tokenization (Tokenisasi)"
      ],
      "metadata": {
        "id": "Bdw1x5j7RjhZ"
      }
    },
    {
      "cell_type": "code",
      "source": [
        "tokenizer = Tokenizer(num_words=2000)\n",
        "tokenizer.fit_on_texts(data['patterns'])\n",
        "train = tokenizer.texts_to_sequences(data['patterns'])\n",
        "train"
      ],
      "metadata": {
        "colab": {
          "base_uri": "https://localhost:8080/"
        },
        "id": "M7uS4JZUBP1w",
        "outputId": "a2023fc3-9230-434b-a1e9-19a2c4e663ea"
      },
      "execution_count": null,
      "outputs": [
        {
          "output_type": "execute_result",
          "data": {
            "text/plain": [
              "[[40],\n",
              " [41],\n",
              " [42],\n",
              " [43],\n",
              " [44],\n",
              " [45],\n",
              " [46],\n",
              " [47],\n",
              " [48],\n",
              " [49],\n",
              " [50],\n",
              " [51],\n",
              " [52],\n",
              " [53],\n",
              " [54],\n",
              " [1, 6, 32],\n",
              " [29, 32],\n",
              " [29, 55],\n",
              " [33, 21, 56, 57, 29, 58],\n",
              " [29, 59, 33],\n",
              " [60],\n",
              " [61],\n",
              " [34],\n",
              " [62],\n",
              " [63, 34],\n",
              " [64, 65],\n",
              " [66, 67],\n",
              " [68],\n",
              " [69, 35],\n",
              " [70],\n",
              " [71, 35],\n",
              " [36, 37],\n",
              " [72],\n",
              " [36, 37, 73],\n",
              " [1, 6, 4, 5],\n",
              " [1, 74, 4, 5],\n",
              " [1, 7, 8, 4, 5],\n",
              " [1, 2, 3, 4, 5],\n",
              " [3, 4, 5, 75],\n",
              " [3, 4, 5, 76],\n",
              " [3, 4, 5, 77],\n",
              " [18, 19],\n",
              " [20],\n",
              " [4, 22],\n",
              " [9],\n",
              " [23, 24, 5],\n",
              " [25, 26],\n",
              " [27],\n",
              " [1, 6, 18, 19],\n",
              " [1, 2, 7, 18, 19],\n",
              " [10, 11, 12, 13, 14, 15, 3, 18, 19],\n",
              " [1, 2, 16, 17, 8, 18, 19],\n",
              " [1, 2, 38, 21, 30, 31, 18, 19],\n",
              " [1, 6, 20, 28],\n",
              " [1, 2, 7, 20, 28],\n",
              " [10, 11, 12, 13, 14, 15, 3, 20, 28],\n",
              " [1, 2, 16, 17, 8, 20, 28],\n",
              " [1, 2, 38, 21, 30, 31, 20, 28],\n",
              " [1, 6, 4, 22],\n",
              " [1, 2, 7, 4, 22],\n",
              " [10, 11, 12, 13, 14, 15, 3, 4, 22],\n",
              " [1, 2, 16, 17, 8, 4, 22],\n",
              " [1, 6, 9],\n",
              " [1, 2, 7, 9],\n",
              " [10, 11, 12, 13, 14, 15, 3, 9],\n",
              " [1, 2, 16, 17, 8, 9],\n",
              " [1, 2, 39, 21, 30, 31, 3, 9],\n",
              " [1, 6, 23, 24, 5],\n",
              " [1, 2, 7, 23, 24, 5],\n",
              " [10, 11, 12, 13, 14, 15, 3, 23, 24, 5],\n",
              " [1, 2, 16, 17, 8, 23, 24, 5],\n",
              " [1, 6, 25, 26],\n",
              " [1, 2, 7, 25, 26],\n",
              " [10, 11, 12, 13, 14, 15, 3, 25, 26],\n",
              " [1, 2, 16, 17, 8, 25, 26],\n",
              " [1, 6, 27],\n",
              " [1, 2, 7, 9],\n",
              " [10, 11, 12, 13, 14, 15, 3, 27],\n",
              " [1, 2, 16, 17, 8, 27],\n",
              " [1, 2, 39, 21, 30, 31, 3, 27]]"
            ]
          },
          "metadata": {},
          "execution_count": 14
        }
      ]
    },
    {
      "cell_type": "markdown",
      "source": [
        "## Padding"
      ],
      "metadata": {
        "id": "S3-ou2scRrER"
      }
    },
    {
      "cell_type": "code",
      "source": [
        "# Apply padding \n",
        "x_train = pad_sequences(train)\n",
        "print(x_train) # Padding Sequences"
      ],
      "metadata": {
        "colab": {
          "base_uri": "https://localhost:8080/"
        },
        "id": "tGOM62agDbX1",
        "outputId": "bca9cf77-2018-4daf-b100-75d0a0fbb16e"
      },
      "execution_count": null,
      "outputs": [
        {
          "output_type": "stream",
          "name": "stdout",
          "text": [
            "[[ 0  0  0  0  0  0  0  0  0 40]\n",
            " [ 0  0  0  0  0  0  0  0  0 41]\n",
            " [ 0  0  0  0  0  0  0  0  0 42]\n",
            " [ 0  0  0  0  0  0  0  0  0 43]\n",
            " [ 0  0  0  0  0  0  0  0  0 44]\n",
            " [ 0  0  0  0  0  0  0  0  0 45]\n",
            " [ 0  0  0  0  0  0  0  0  0 46]\n",
            " [ 0  0  0  0  0  0  0  0  0 47]\n",
            " [ 0  0  0  0  0  0  0  0  0 48]\n",
            " [ 0  0  0  0  0  0  0  0  0 49]\n",
            " [ 0  0  0  0  0  0  0  0  0 50]\n",
            " [ 0  0  0  0  0  0  0  0  0 51]\n",
            " [ 0  0  0  0  0  0  0  0  0 52]\n",
            " [ 0  0  0  0  0  0  0  0  0 53]\n",
            " [ 0  0  0  0  0  0  0  0  0 54]\n",
            " [ 0  0  0  0  0  0  0  1  6 32]\n",
            " [ 0  0  0  0  0  0  0  0 29 32]\n",
            " [ 0  0  0  0  0  0  0  0 29 55]\n",
            " [ 0  0  0  0 33 21 56 57 29 58]\n",
            " [ 0  0  0  0  0  0  0 29 59 33]\n",
            " [ 0  0  0  0  0  0  0  0  0 60]\n",
            " [ 0  0  0  0  0  0  0  0  0 61]\n",
            " [ 0  0  0  0  0  0  0  0  0 34]\n",
            " [ 0  0  0  0  0  0  0  0  0 62]\n",
            " [ 0  0  0  0  0  0  0  0 63 34]\n",
            " [ 0  0  0  0  0  0  0  0 64 65]\n",
            " [ 0  0  0  0  0  0  0  0 66 67]\n",
            " [ 0  0  0  0  0  0  0  0  0 68]\n",
            " [ 0  0  0  0  0  0  0  0 69 35]\n",
            " [ 0  0  0  0  0  0  0  0  0 70]\n",
            " [ 0  0  0  0  0  0  0  0 71 35]\n",
            " [ 0  0  0  0  0  0  0  0 36 37]\n",
            " [ 0  0  0  0  0  0  0  0  0 72]\n",
            " [ 0  0  0  0  0  0  0 36 37 73]\n",
            " [ 0  0  0  0  0  0  1  6  4  5]\n",
            " [ 0  0  0  0  0  0  1 74  4  5]\n",
            " [ 0  0  0  0  0  1  7  8  4  5]\n",
            " [ 0  0  0  0  0  1  2  3  4  5]\n",
            " [ 0  0  0  0  0  0  3  4  5 75]\n",
            " [ 0  0  0  0  0  0  3  4  5 76]\n",
            " [ 0  0  0  0  0  0  3  4  5 77]\n",
            " [ 0  0  0  0  0  0  0  0 18 19]\n",
            " [ 0  0  0  0  0  0  0  0  0 20]\n",
            " [ 0  0  0  0  0  0  0  0  4 22]\n",
            " [ 0  0  0  0  0  0  0  0  0  9]\n",
            " [ 0  0  0  0  0  0  0 23 24  5]\n",
            " [ 0  0  0  0  0  0  0  0 25 26]\n",
            " [ 0  0  0  0  0  0  0  0  0 27]\n",
            " [ 0  0  0  0  0  0  1  6 18 19]\n",
            " [ 0  0  0  0  0  1  2  7 18 19]\n",
            " [ 0 10 11 12 13 14 15  3 18 19]\n",
            " [ 0  0  0  1  2 16 17  8 18 19]\n",
            " [ 0  0  1  2 38 21 30 31 18 19]\n",
            " [ 0  0  0  0  0  0  1  6 20 28]\n",
            " [ 0  0  0  0  0  1  2  7 20 28]\n",
            " [ 0 10 11 12 13 14 15  3 20 28]\n",
            " [ 0  0  0  1  2 16 17  8 20 28]\n",
            " [ 0  0  1  2 38 21 30 31 20 28]\n",
            " [ 0  0  0  0  0  0  1  6  4 22]\n",
            " [ 0  0  0  0  0  1  2  7  4 22]\n",
            " [ 0 10 11 12 13 14 15  3  4 22]\n",
            " [ 0  0  0  1  2 16 17  8  4 22]\n",
            " [ 0  0  0  0  0  0  0  1  6  9]\n",
            " [ 0  0  0  0  0  0  1  2  7  9]\n",
            " [ 0  0 10 11 12 13 14 15  3  9]\n",
            " [ 0  0  0  0  1  2 16 17  8  9]\n",
            " [ 0  0  1  2 39 21 30 31  3  9]\n",
            " [ 0  0  0  0  0  1  6 23 24  5]\n",
            " [ 0  0  0  0  1  2  7 23 24  5]\n",
            " [10 11 12 13 14 15  3 23 24  5]\n",
            " [ 0  0  1  2 16 17  8 23 24  5]\n",
            " [ 0  0  0  0  0  0  1  6 25 26]\n",
            " [ 0  0  0  0  0  1  2  7 25 26]\n",
            " [ 0 10 11 12 13 14 15  3 25 26]\n",
            " [ 0  0  0  1  2 16 17  8 25 26]\n",
            " [ 0  0  0  0  0  0  0  1  6 27]\n",
            " [ 0  0  0  0  0  0  1  2  7  9]\n",
            " [ 0  0 10 11 12 13 14 15  3 27]\n",
            " [ 0  0  0  0  1  2 16 17  8 27]\n",
            " [ 0  0  1  2 39 21 30 31  3 27]]\n"
          ]
        }
      ]
    },
    {
      "cell_type": "markdown",
      "source": [
        "## Encoding Text"
      ],
      "metadata": {
        "id": "CyIDcDflRvCC"
      }
    },
    {
      "cell_type": "code",
      "source": [
        "le = LabelEncoder()\n",
        "y_train = le.fit_transform(data['tags'])\n",
        "print(y_train)"
      ],
      "metadata": {
        "colab": {
          "base_uri": "https://localhost:8080/"
        },
        "id": "a2XRLq-oDgu-",
        "outputId": "21a3bb76-488b-459f-9324-97ac3fcb2dde"
      },
      "execution_count": null,
      "outputs": [
        {
          "output_type": "stream",
          "name": "stdout",
          "text": [
            "[ 1  1  1  1  1  1  1  1  1  1  1  1  1  1  1  2  2 14 14 14  0  0  0  0\n",
            "  0  0  0  0  0 38 38 38 38 38 18 39 32 37 37 37 37 37 37 37 37 37 37 37\n",
            " 22 36 29  9 13 19 33 26  6 12 17 31 25  5 15 30 23  3 10 21 35 28  8 20\n",
            " 34 27  7 16 30 24  4 11]\n"
          ]
        }
      ]
    },
    {
      "cell_type": "markdown",
      "source": [
        "## Input Length, Output Length and Vocabulary"
      ],
      "metadata": {
        "id": "499TP3ykRyfM"
      }
    },
    {
      "cell_type": "code",
      "source": [
        "# input length\n",
        "input_shape = x_train.shape[1]\n",
        "print(input_shape)"
      ],
      "metadata": {
        "colab": {
          "base_uri": "https://localhost:8080/"
        },
        "id": "XIMsuUtkD47y",
        "outputId": "955f94a9-5e2a-4bde-c555-50e9ac5b2d51"
      },
      "execution_count": null,
      "outputs": [
        {
          "output_type": "stream",
          "name": "stdout",
          "text": [
            "10\n"
          ]
        }
      ]
    },
    {
      "cell_type": "code",
      "source": [
        "# define vocabulary\n",
        "vocabulary = len(tokenizer.word_index)\n",
        "print(\"number of unique words : \", vocabulary)\n",
        "\n",
        "# output length\n",
        "output_length = le.classes_.shape[0]\n",
        "print(\"output length: \", output_length)"
      ],
      "metadata": {
        "colab": {
          "base_uri": "https://localhost:8080/"
        },
        "id": "pjLxgCvID653",
        "outputId": "3f21dc15-81fa-4629-e642-25798efe6dfd"
      },
      "execution_count": null,
      "outputs": [
        {
          "output_type": "stream",
          "name": "stdout",
          "text": [
            "number of unique words :  77\n",
            "output length:  40\n"
          ]
        }
      ]
    },
    {
      "cell_type": "markdown",
      "source": [
        "## Save Model Words & Classes"
      ],
      "metadata": {
        "id": "8MVDPL_cR5Kh"
      }
    },
    {
      "cell_type": "code",
      "source": [
        "pickle.dump(words, open('/content/drive/MyDrive/msib/words.pkl','wb'))\n",
        "pickle.dump(classes, open('/content/drive/MyDrive/msib/classes.pkl','wb'))"
      ],
      "metadata": {
        "id": "WscHbTkeD62e"
      },
      "execution_count": null,
      "outputs": []
    },
    {
      "cell_type": "markdown",
      "source": [
        "## Save Label Encoder & Tokenizer"
      ],
      "metadata": {
        "id": "qnx9xZOSSCIu"
      }
    },
    {
      "cell_type": "code",
      "source": [
        "pickle.dump(le, open('le.pkl','wb'))\n",
        "pickle.dump(tokenizer, open('tokenizers.pkl','wb'))"
      ],
      "metadata": {
        "id": "cDYAG826GIRE"
      },
      "execution_count": null,
      "outputs": []
    },
    {
      "cell_type": "markdown",
      "source": [
        "## Neural Network Model"
      ],
      "metadata": {
        "id": "QukpODAJSDht"
      }
    },
    {
      "cell_type": "code",
      "source": [
        "# Creating the model (Membuat Modeling)\n",
        "i = Input(shape=(input_shape,))\n",
        "x = Embedding(vocabulary+1,10)(i) # Layer Embedding\n",
        "x = LSTM(10, return_sequences=True)(x) # Layer Long Short Term Memory\n",
        "x = Flatten()(x) # Layer Flatten\n",
        "x = Dense(output_length, activation=\"softmax\")(x) # Layer Dense\n",
        "model  = Model(i,x)\n",
        "\n",
        "# Compiling the model (Kompilasi Model)\n",
        "model.compile(loss=\"sparse_categorical_crossentropy\", optimizer='adam', metrics=['accuracy'])"
      ],
      "metadata": {
        "id": "fwVL9L4KGONI"
      },
      "execution_count": null,
      "outputs": []
    },
    {
      "cell_type": "code",
      "source": [
        "# Visualization Plot Architecture Model (Visualisasi Plot Arsitektur Model)\n",
        "plot_model(model, to_file='model_plot.png', show_shapes=True, show_layer_names=True)"
      ],
      "metadata": {
        "colab": {
          "base_uri": "https://localhost:8080/",
          "height": 533
        },
        "id": "E_YxgQ8oGPxh",
        "outputId": "87488d65-c95f-4c39-eef0-c53eadcee29e"
      },
      "execution_count": null,
      "outputs": [
        {
          "output_type": "execute_result",
          "data": {
            "image/png": "[encoded data removed]",
            "text/plain": [
              "<IPython.core.display.Image object>"
            ]
          },
          "metadata": {},
          "execution_count": 23
        }
      ]
    },
    {
      "cell_type": "code",
      "source": [
        "# Menampilkan Parameter Model\n",
        "model.summary()"
      ],
      "metadata": {
        "colab": {
          "base_uri": "https://localhost:8080/"
        },
        "id": "yFhSTRyVGX-R",
        "outputId": "98cfc160-b4ec-4c94-c793-6214c10a39c5"
      },
      "execution_count": null,
      "outputs": [
        {
          "output_type": "stream",
          "name": "stdout",
          "text": [
            "Model: \"model\"\n",
            "_________________________________________________________________\n",
            " Layer (type)                Output Shape              Param #   \n",
            "=================================================================\n",
            " input_1 (InputLayer)        [(None, 10)]              0         \n",
            "                                                                 \n",
            " embedding (Embedding)       (None, 10, 10)            780       \n",
            "                                                                 \n",
            " lstm (LSTM)                 (None, 10, 10)            840       \n",
            "                                                                 \n",
            " flatten (Flatten)           (None, 100)               0         \n",
            "                                                                 \n",
            " dense (Dense)               (None, 40)                4040      \n",
            "                                                                 \n",
            "=================================================================\n",
            "Total params: 5,660\n",
            "Trainable params: 5,660\n",
            "Non-trainable params: 0\n",
            "_________________________________________________________________\n"
          ]
        }
      ]
    },
    {
      "cell_type": "code",
      "source": [
        "# Training the model (Latih model data sampai 400 kali)\n",
        "train = model.fit(x_train, y_train, epochs=400)"
      ],
      "metadata": {
        "colab": {
          "base_uri": "https://localhost:8080/"
        },
        "id": "D1Uhy6t9GaPB",
        "outputId": "2c8a1e66-b231-4584-c1b4-da7cd65d10e8"
      },
      "execution_count": null,
      "outputs": [
        {
          "output_type": "stream",
          "name": "stdout",
          "text": [
            "Epoch 1/400\n",
            "3/3 [==============================] - 3s 10ms/step - loss: 3.6862 - accuracy: 0.0250\n",
            "Epoch 2/400\n",
            "3/3 [==============================] - 0s 10ms/step - loss: 3.6780 - accuracy: 0.1125\n",
            "Epoch 3/400\n",
            "3/3 [==============================] - 0s 10ms/step - loss: 3.6688 - accuracy: 0.1125\n",
            "Epoch 4/400\n",
            "3/3 [==============================] - 0s 10ms/step - loss: 3.6594 - accuracy: 0.1125\n",
            "Epoch 5/400\n",
            "3/3 [==============================] - 0s 10ms/step - loss: 3.6471 - accuracy: 0.1125\n",
            "Epoch 6/400\n",
            "3/3 [==============================] - 0s 11ms/step - loss: 3.6326 - accuracy: 0.1125\n",
            "Epoch 7/400\n",
            "3/3 [==============================] - 0s 13ms/step - loss: 3.6165 - accuracy: 0.1125\n",
            "Epoch 8/400\n",
            "3/3 [==============================] - 0s 10ms/step - loss: 3.5956 - accuracy: 0.1125\n",
            "Epoch 9/400\n",
            "3/3 [==============================] - 0s 10ms/step - loss: 3.5704 - accuracy: 0.1125\n",
            "Epoch 10/400\n",
            "3/3 [==============================] - 0s 9ms/step - loss: 3.5411 - accuracy: 0.1125\n",
            "Epoch 11/400\n",
            "3/3 [==============================] - 0s 10ms/step - loss: 3.5054 - accuracy: 0.1125\n",
            "Epoch 12/400\n",
            "3/3 [==============================] - 0s 11ms/step - loss: 3.4625 - accuracy: 0.1125\n",
            "Epoch 13/400\n",
            "3/3 [==============================] - 0s 11ms/step - loss: 3.4160 - accuracy: 0.1125\n",
            "Epoch 14/400\n",
            "3/3 [==============================] - 0s 10ms/step - loss: 3.3549 - accuracy: 0.1125\n",
            "Epoch 15/400\n",
            "3/3 [==============================] - 0s 9ms/step - loss: 3.2957 - accuracy: 0.1125\n",
            "Epoch 16/400\n",
            "3/3 [==============================] - 0s 10ms/step - loss: 3.2295 - accuracy: 0.1125\n",
            "Epoch 17/400\n",
            "3/3 [==============================] - 0s 9ms/step - loss: 3.1611 - accuracy: 0.1125\n",
            "Epoch 18/400\n",
            "3/3 [==============================] - 0s 10ms/step - loss: 3.0960 - accuracy: 0.1125\n",
            "Epoch 19/400\n",
            "3/3 [==============================] - 0s 11ms/step - loss: 3.0397 - accuracy: 0.1125\n",
            "Epoch 20/400\n",
            "3/3 [==============================] - 0s 9ms/step - loss: 2.9949 - accuracy: 0.1125\n",
            "Epoch 21/400\n",
            "3/3 [==============================] - 0s 9ms/step - loss: 2.9632 - accuracy: 0.1125\n",
            "Epoch 22/400\n",
            "3/3 [==============================] - 0s 8ms/step - loss: 2.9373 - accuracy: 0.1125\n",
            "Epoch 23/400\n",
            "3/3 [==============================] - 0s 9ms/step - loss: 2.9197 - accuracy: 0.1375\n",
            "Epoch 24/400\n",
            "3/3 [==============================] - 0s 10ms/step - loss: 2.8946 - accuracy: 0.1250\n",
            "Epoch 25/400\n",
            "3/3 [==============================] - 0s 9ms/step - loss: 2.8717 - accuracy: 0.1500\n",
            "Epoch 26/400\n",
            "3/3 [==============================] - 0s 11ms/step - loss: 2.8492 - accuracy: 0.2000\n",
            "Epoch 27/400\n",
            "3/3 [==============================] - 0s 9ms/step - loss: 2.8268 - accuracy: 0.2000\n",
            "Epoch 28/400\n",
            "3/3 [==============================] - 0s 10ms/step - loss: 2.8073 - accuracy: 0.2125\n",
            "Epoch 29/400\n",
            "3/3 [==============================] - 0s 10ms/step - loss: 2.7879 - accuracy: 0.2250\n",
            "Epoch 30/400\n",
            "3/3 [==============================] - 0s 9ms/step - loss: 2.7721 - accuracy: 0.2250\n",
            "Epoch 31/400\n",
            "3/3 [==============================] - 0s 9ms/step - loss: 2.7538 - accuracy: 0.2250\n",
            "Epoch 32/400\n",
            "3/3 [==============================] - 0s 9ms/step - loss: 2.7369 - accuracy: 0.2250\n",
            "Epoch 33/400\n",
            "3/3 [==============================] - 0s 13ms/step - loss: 2.7192 - accuracy: 0.2250\n",
            "Epoch 34/400\n",
            "3/3 [==============================] - 0s 11ms/step - loss: 2.7018 - accuracy: 0.2250\n",
            "Epoch 35/400\n",
            "3/3 [==============================] - 0s 9ms/step - loss: 2.6838 - accuracy: 0.2250\n",
            "Epoch 36/400\n",
            "3/3 [==============================] - 0s 9ms/step - loss: 2.6675 - accuracy: 0.2375\n",
            "Epoch 37/400\n",
            "3/3 [==============================] - 0s 9ms/step - loss: 2.6504 - accuracy: 0.2375\n",
            "Epoch 38/400\n",
            "3/3 [==============================] - 0s 10ms/step - loss: 2.6342 - accuracy: 0.2375\n",
            "Epoch 39/400\n",
            "3/3 [==============================] - 0s 10ms/step - loss: 2.6163 - accuracy: 0.2375\n",
            "Epoch 40/400\n",
            "3/3 [==============================] - 0s 9ms/step - loss: 2.6001 - accuracy: 0.2250\n",
            "Epoch 41/400\n",
            "3/3 [==============================] - 0s 9ms/step - loss: 2.5832 - accuracy: 0.2250\n",
            "Epoch 42/400\n",
            "3/3 [==============================] - 0s 9ms/step - loss: 2.5664 - accuracy: 0.2250\n",
            "Epoch 43/400\n",
            "3/3 [==============================] - 0s 13ms/step - loss: 2.5507 - accuracy: 0.2250\n",
            "Epoch 44/400\n",
            "3/3 [==============================] - 0s 10ms/step - loss: 2.5348 - accuracy: 0.2250\n",
            "Epoch 45/400\n",
            "3/3 [==============================] - 0s 10ms/step - loss: 2.5197 - accuracy: 0.2375\n",
            "Epoch 46/400\n",
            "3/3 [==============================] - 0s 11ms/step - loss: 2.5039 - accuracy: 0.2375\n",
            "Epoch 47/400\n",
            "3/3 [==============================] - 0s 10ms/step - loss: 2.4881 - accuracy: 0.2375\n",
            "Epoch 48/400\n",
            "3/3 [==============================] - 0s 14ms/step - loss: 2.4717 - accuracy: 0.2375\n",
            "Epoch 49/400\n",
            "3/3 [==============================] - 0s 9ms/step - loss: 2.4572 - accuracy: 0.2375\n",
            "Epoch 50/400\n",
            "3/3 [==============================] - 0s 9ms/step - loss: 2.4425 - accuracy: 0.2375\n",
            "Epoch 51/400\n",
            "3/3 [==============================] - 0s 10ms/step - loss: 2.4260 - accuracy: 0.2375\n",
            "Epoch 52/400\n",
            "3/3 [==============================] - 0s 10ms/step - loss: 2.4110 - accuracy: 0.2375\n",
            "Epoch 53/400\n",
            "3/3 [==============================] - 0s 9ms/step - loss: 2.3959 - accuracy: 0.2375\n",
            "Epoch 54/400\n",
            "3/3 [==============================] - 0s 11ms/step - loss: 2.3811 - accuracy: 0.2375\n",
            "Epoch 55/400\n",
            "3/3 [==============================] - 0s 9ms/step - loss: 2.3669 - accuracy: 0.2375\n",
            "Epoch 56/400\n",
            "3/3 [==============================] - 0s 13ms/step - loss: 2.3512 - accuracy: 0.2375\n",
            "Epoch 57/400\n",
            "3/3 [==============================] - 0s 11ms/step - loss: 2.3376 - accuracy: 0.2375\n",
            "Epoch 58/400\n",
            "3/3 [==============================] - 0s 9ms/step - loss: 2.3204 - accuracy: 0.2375\n",
            "Epoch 59/400\n",
            "3/3 [==============================] - 0s 12ms/step - loss: 2.3063 - accuracy: 0.2375\n",
            "Epoch 60/400\n",
            "3/3 [==============================] - 0s 9ms/step - loss: 2.2909 - accuracy: 0.2375\n",
            "Epoch 61/400\n",
            "3/3 [==============================] - 0s 15ms/step - loss: 2.2752 - accuracy: 0.2375\n",
            "Epoch 62/400\n",
            "3/3 [==============================] - 0s 10ms/step - loss: 2.2589 - accuracy: 0.2500\n",
            "Epoch 63/400\n",
            "3/3 [==============================] - 0s 10ms/step - loss: 2.2435 - accuracy: 0.2500\n",
            "Epoch 64/400\n",
            "3/3 [==============================] - 0s 9ms/step - loss: 2.2276 - accuracy: 0.2625\n",
            "Epoch 65/400\n",
            "3/3 [==============================] - 0s 10ms/step - loss: 2.2112 - accuracy: 0.2625\n",
            "Epoch 66/400\n",
            "3/3 [==============================] - 0s 12ms/step - loss: 2.1963 - accuracy: 0.2750\n",
            "Epoch 67/400\n",
            "3/3 [==============================] - 0s 10ms/step - loss: 2.1799 - accuracy: 0.2875\n",
            "Epoch 68/400\n",
            "3/3 [==============================] - 0s 11ms/step - loss: 2.1650 - accuracy: 0.3125\n",
            "Epoch 69/400\n",
            "3/3 [==============================] - 0s 9ms/step - loss: 2.1488 - accuracy: 0.3125\n",
            "Epoch 70/400\n",
            "3/3 [==============================] - 0s 9ms/step - loss: 2.1325 - accuracy: 0.3125\n",
            "Epoch 71/400\n",
            "3/3 [==============================] - 0s 10ms/step - loss: 2.1158 - accuracy: 0.3125\n",
            "Epoch 72/400\n",
            "3/3 [==============================] - 0s 9ms/step - loss: 2.0995 - accuracy: 0.3375\n",
            "Epoch 73/400\n",
            "3/3 [==============================] - 0s 10ms/step - loss: 2.0838 - accuracy: 0.3500\n",
            "Epoch 74/400\n",
            "3/3 [==============================] - 0s 9ms/step - loss: 2.0680 - accuracy: 0.3500\n",
            "Epoch 75/400\n",
            "3/3 [==============================] - 0s 10ms/step - loss: 2.0509 - accuracy: 0.3500\n",
            "Epoch 76/400\n",
            "3/3 [==============================] - 0s 10ms/step - loss: 2.0355 - accuracy: 0.3500\n",
            "Epoch 77/400\n",
            "3/3 [==============================] - 0s 9ms/step - loss: 2.0180 - accuracy: 0.3875\n",
            "Epoch 78/400\n",
            "3/3 [==============================] - 0s 10ms/step - loss: 2.0031 - accuracy: 0.3875\n",
            "Epoch 79/400\n",
            "3/3 [==============================] - 0s 9ms/step - loss: 1.9872 - accuracy: 0.3875\n",
            "Epoch 80/400\n",
            "3/3 [==============================] - 0s 10ms/step - loss: 1.9704 - accuracy: 0.4000\n",
            "Epoch 81/400\n",
            "3/3 [==============================] - 0s 9ms/step - loss: 1.9544 - accuracy: 0.3875\n",
            "Epoch 82/400\n",
            "3/3 [==============================] - 0s 10ms/step - loss: 1.9384 - accuracy: 0.3875\n",
            "Epoch 83/400\n",
            "3/3 [==============================] - 0s 9ms/step - loss: 1.9223 - accuracy: 0.4000\n",
            "Epoch 84/400\n",
            "3/3 [==============================] - 0s 10ms/step - loss: 1.9048 - accuracy: 0.4250\n",
            "Epoch 85/400\n",
            "3/3 [==============================] - 0s 13ms/step - loss: 1.8891 - accuracy: 0.4250\n",
            "Epoch 86/400\n",
            "3/3 [==============================] - 0s 11ms/step - loss: 1.8740 - accuracy: 0.4125\n",
            "Epoch 87/400\n",
            "3/3 [==============================] - 0s 9ms/step - loss: 1.8581 - accuracy: 0.4375\n",
            "Epoch 88/400\n",
            "3/3 [==============================] - 0s 12ms/step - loss: 1.8413 - accuracy: 0.4250\n",
            "Epoch 89/400\n",
            "3/3 [==============================] - 0s 12ms/step - loss: 1.8273 - accuracy: 0.4375\n",
            "Epoch 90/400\n",
            "3/3 [==============================] - 0s 10ms/step - loss: 1.8128 - accuracy: 0.4250\n",
            "Epoch 91/400\n",
            "3/3 [==============================] - 0s 11ms/step - loss: 1.7978 - accuracy: 0.4375\n",
            "Epoch 92/400\n",
            "3/3 [==============================] - 0s 11ms/step - loss: 1.7835 - accuracy: 0.4375\n",
            "Epoch 93/400\n",
            "3/3 [==============================] - 0s 11ms/step - loss: 1.7677 - accuracy: 0.4625\n",
            "Epoch 94/400\n",
            "3/3 [==============================] - 0s 9ms/step - loss: 1.7526 - accuracy: 0.4750\n",
            "Epoch 95/400\n",
            "3/3 [==============================] - 0s 9ms/step - loss: 1.7378 - accuracy: 0.4875\n",
            "Epoch 96/400\n",
            "3/3 [==============================] - 0s 10ms/step - loss: 1.7227 - accuracy: 0.5125\n",
            "Epoch 97/400\n",
            "3/3 [==============================] - 0s 11ms/step - loss: 1.7125 - accuracy: 0.5125\n",
            "Epoch 98/400\n",
            "3/3 [==============================] - 0s 10ms/step - loss: 1.6973 - accuracy: 0.5125\n",
            "Epoch 99/400\n",
            "3/3 [==============================] - 0s 9ms/step - loss: 1.6818 - accuracy: 0.5000\n",
            "Epoch 100/400\n",
            "3/3 [==============================] - 0s 10ms/step - loss: 1.6705 - accuracy: 0.5000\n",
            "Epoch 101/400\n",
            "3/3 [==============================] - 0s 10ms/step - loss: 1.6563 - accuracy: 0.5250\n",
            "Epoch 102/400\n",
            "3/3 [==============================] - 0s 9ms/step - loss: 1.6446 - accuracy: 0.4875\n",
            "Epoch 103/400\n",
            "3/3 [==============================] - 0s 9ms/step - loss: 1.6318 - accuracy: 0.4875\n",
            "Epoch 104/400\n",
            "3/3 [==============================] - 0s 16ms/step - loss: 1.6187 - accuracy: 0.4875\n",
            "Epoch 105/400\n",
            "3/3 [==============================] - 0s 13ms/step - loss: 1.6061 - accuracy: 0.4875\n",
            "Epoch 106/400\n",
            "3/3 [==============================] - 0s 16ms/step - loss: 1.5941 - accuracy: 0.5250\n",
            "Epoch 107/400\n",
            "3/3 [==============================] - 0s 13ms/step - loss: 1.5819 - accuracy: 0.5250\n",
            "Epoch 108/400\n",
            "3/3 [==============================] - 0s 13ms/step - loss: 1.5710 - accuracy: 0.5125\n",
            "Epoch 109/400\n",
            "3/3 [==============================] - 0s 20ms/step - loss: 1.5603 - accuracy: 0.5000\n",
            "Epoch 110/400\n",
            "3/3 [==============================] - 0s 17ms/step - loss: 1.5494 - accuracy: 0.5000\n",
            "Epoch 111/400\n",
            "3/3 [==============================] - 0s 22ms/step - loss: 1.5383 - accuracy: 0.5000\n",
            "Epoch 112/400\n",
            "3/3 [==============================] - 0s 24ms/step - loss: 1.5280 - accuracy: 0.5000\n",
            "Epoch 113/400\n",
            "3/3 [==============================] - 0s 16ms/step - loss: 1.5183 - accuracy: 0.5125\n",
            "Epoch 114/400\n",
            "3/3 [==============================] - 0s 13ms/step - loss: 1.5065 - accuracy: 0.5250\n",
            "Epoch 115/400\n",
            "3/3 [==============================] - 0s 14ms/step - loss: 1.4950 - accuracy: 0.5375\n",
            "Epoch 116/400\n",
            "3/3 [==============================] - 0s 14ms/step - loss: 1.4861 - accuracy: 0.5500\n",
            "Epoch 117/400\n",
            "3/3 [==============================] - 0s 17ms/step - loss: 1.4754 - accuracy: 0.5375\n",
            "Epoch 118/400\n",
            "3/3 [==============================] - 0s 17ms/step - loss: 1.4664 - accuracy: 0.5375\n",
            "Epoch 119/400\n",
            "3/3 [==============================] - 0s 13ms/step - loss: 1.4554 - accuracy: 0.5375\n",
            "Epoch 120/400\n",
            "3/3 [==============================] - 0s 16ms/step - loss: 1.4472 - accuracy: 0.5375\n",
            "Epoch 121/400\n",
            "3/3 [==============================] - 0s 18ms/step - loss: 1.4370 - accuracy: 0.5375\n",
            "Epoch 122/400\n",
            "3/3 [==============================] - 0s 17ms/step - loss: 1.4293 - accuracy: 0.5250\n",
            "Epoch 123/400\n",
            "3/3 [==============================] - 0s 15ms/step - loss: 1.4189 - accuracy: 0.5625\n",
            "Epoch 124/400\n",
            "3/3 [==============================] - 0s 16ms/step - loss: 1.4092 - accuracy: 0.5500\n",
            "Epoch 125/400\n",
            "3/3 [==============================] - 0s 14ms/step - loss: 1.4006 - accuracy: 0.5375\n",
            "Epoch 126/400\n",
            "3/3 [==============================] - 0s 20ms/step - loss: 1.3916 - accuracy: 0.5375\n",
            "Epoch 127/400\n",
            "3/3 [==============================] - 0s 31ms/step - loss: 1.3843 - accuracy: 0.5625\n",
            "Epoch 128/400\n",
            "3/3 [==============================] - 0s 21ms/step - loss: 1.3758 - accuracy: 0.5875\n",
            "Epoch 129/400\n",
            "3/3 [==============================] - 0s 25ms/step - loss: 1.3674 - accuracy: 0.6000\n",
            "Epoch 130/400\n",
            "3/3 [==============================] - 0s 16ms/step - loss: 1.3590 - accuracy: 0.6500\n",
            "Epoch 131/400\n",
            "3/3 [==============================] - 0s 18ms/step - loss: 1.3516 - accuracy: 0.6375\n",
            "Epoch 132/400\n",
            "3/3 [==============================] - 0s 22ms/step - loss: 1.3437 - accuracy: 0.6250\n",
            "Epoch 133/400\n",
            "3/3 [==============================] - 0s 20ms/step - loss: 1.3351 - accuracy: 0.5750\n",
            "Epoch 134/400\n",
            "3/3 [==============================] - 0s 24ms/step - loss: 1.3266 - accuracy: 0.5750\n",
            "Epoch 135/400\n",
            "3/3 [==============================] - 0s 19ms/step - loss: 1.3184 - accuracy: 0.6000\n",
            "Epoch 136/400\n",
            "3/3 [==============================] - 0s 21ms/step - loss: 1.3118 - accuracy: 0.6000\n",
            "Epoch 137/400\n",
            "3/3 [==============================] - 0s 14ms/step - loss: 1.3036 - accuracy: 0.6000\n",
            "Epoch 138/400\n",
            "3/3 [==============================] - 0s 18ms/step - loss: 1.2963 - accuracy: 0.6125\n",
            "Epoch 139/400\n",
            "3/3 [==============================] - 0s 21ms/step - loss: 1.2883 - accuracy: 0.6375\n",
            "Epoch 140/400\n",
            "3/3 [==============================] - 0s 22ms/step - loss: 1.2829 - accuracy: 0.6500\n",
            "Epoch 141/400\n",
            "3/3 [==============================] - 0s 16ms/step - loss: 1.2747 - accuracy: 0.6500\n",
            "Epoch 142/400\n",
            "3/3 [==============================] - 0s 15ms/step - loss: 1.2697 - accuracy: 0.6625\n",
            "Epoch 143/400\n",
            "3/3 [==============================] - 0s 20ms/step - loss: 1.2617 - accuracy: 0.6750\n",
            "Epoch 144/400\n",
            "3/3 [==============================] - 0s 18ms/step - loss: 1.2556 - accuracy: 0.6375\n",
            "Epoch 145/400\n",
            "3/3 [==============================] - 0s 19ms/step - loss: 1.2459 - accuracy: 0.6625\n",
            "Epoch 146/400\n",
            "3/3 [==============================] - 0s 19ms/step - loss: 1.2391 - accuracy: 0.6500\n",
            "Epoch 147/400\n",
            "3/3 [==============================] - 0s 18ms/step - loss: 1.2315 - accuracy: 0.6625\n",
            "Epoch 148/400\n",
            "3/3 [==============================] - 0s 14ms/step - loss: 1.2257 - accuracy: 0.6500\n",
            "Epoch 149/400\n",
            "3/3 [==============================] - 0s 16ms/step - loss: 1.2176 - accuracy: 0.6375\n",
            "Epoch 150/400\n",
            "3/3 [==============================] - 0s 15ms/step - loss: 1.2107 - accuracy: 0.6500\n",
            "Epoch 151/400\n",
            "3/3 [==============================] - 0s 17ms/step - loss: 1.2037 - accuracy: 0.6375\n",
            "Epoch 152/400\n",
            "3/3 [==============================] - 0s 20ms/step - loss: 1.1961 - accuracy: 0.6375\n",
            "Epoch 153/400\n",
            "3/3 [==============================] - 0s 15ms/step - loss: 1.1896 - accuracy: 0.6375\n",
            "Epoch 154/400\n",
            "3/3 [==============================] - 0s 13ms/step - loss: 1.1850 - accuracy: 0.6375\n",
            "Epoch 155/400\n",
            "3/3 [==============================] - 0s 22ms/step - loss: 1.1772 - accuracy: 0.6500\n",
            "Epoch 156/400\n",
            "3/3 [==============================] - 0s 14ms/step - loss: 1.1699 - accuracy: 0.6500\n",
            "Epoch 157/400\n",
            "3/3 [==============================] - 0s 22ms/step - loss: 1.1630 - accuracy: 0.6500\n",
            "Epoch 158/400\n",
            "3/3 [==============================] - 0s 32ms/step - loss: 1.1580 - accuracy: 0.6500\n",
            "Epoch 159/400\n",
            "3/3 [==============================] - 0s 17ms/step - loss: 1.1509 - accuracy: 0.6500\n",
            "Epoch 160/400\n",
            "3/3 [==============================] - 0s 28ms/step - loss: 1.1438 - accuracy: 0.6375\n",
            "Epoch 161/400\n",
            "3/3 [==============================] - 0s 18ms/step - loss: 1.1390 - accuracy: 0.6375\n",
            "Epoch 162/400\n",
            "3/3 [==============================] - 0s 18ms/step - loss: 1.1314 - accuracy: 0.6500\n",
            "Epoch 163/400\n",
            "3/3 [==============================] - 0s 18ms/step - loss: 1.1255 - accuracy: 0.6500\n",
            "Epoch 164/400\n",
            "3/3 [==============================] - 0s 14ms/step - loss: 1.1191 - accuracy: 0.6625\n",
            "Epoch 165/400\n",
            "3/3 [==============================] - 0s 18ms/step - loss: 1.1126 - accuracy: 0.6625\n",
            "Epoch 166/400\n",
            "3/3 [==============================] - 0s 18ms/step - loss: 1.1063 - accuracy: 0.6875\n",
            "Epoch 167/400\n",
            "3/3 [==============================] - 0s 16ms/step - loss: 1.0985 - accuracy: 0.6875\n",
            "Epoch 168/400\n",
            "3/3 [==============================] - 0s 16ms/step - loss: 1.0952 - accuracy: 0.6875\n",
            "Epoch 169/400\n",
            "3/3 [==============================] - 0s 13ms/step - loss: 1.0865 - accuracy: 0.6750\n",
            "Epoch 170/400\n",
            "3/3 [==============================] - 0s 13ms/step - loss: 1.0804 - accuracy: 0.6875\n",
            "Epoch 171/400\n",
            "3/3 [==============================] - 0s 19ms/step - loss: 1.0749 - accuracy: 0.6875\n",
            "Epoch 172/400\n",
            "3/3 [==============================] - 0s 23ms/step - loss: 1.0681 - accuracy: 0.7000\n",
            "Epoch 173/400\n",
            "3/3 [==============================] - 0s 18ms/step - loss: 1.0629 - accuracy: 0.7000\n",
            "Epoch 174/400\n",
            "3/3 [==============================] - 0s 15ms/step - loss: 1.0563 - accuracy: 0.7250\n",
            "Epoch 175/400\n",
            "3/3 [==============================] - 0s 14ms/step - loss: 1.0496 - accuracy: 0.7125\n",
            "Epoch 176/400\n",
            "3/3 [==============================] - 0s 17ms/step - loss: 1.0430 - accuracy: 0.7250\n",
            "Epoch 177/400\n",
            "3/3 [==============================] - 0s 15ms/step - loss: 1.0382 - accuracy: 0.6875\n",
            "Epoch 178/400\n",
            "3/3 [==============================] - 0s 14ms/step - loss: 1.0313 - accuracy: 0.6875\n",
            "Epoch 179/400\n",
            "3/3 [==============================] - 0s 12ms/step - loss: 1.0250 - accuracy: 0.7000\n",
            "Epoch 180/400\n",
            "3/3 [==============================] - 0s 31ms/step - loss: 1.0189 - accuracy: 0.7125\n",
            "Epoch 181/400\n",
            "3/3 [==============================] - 0s 35ms/step - loss: 1.0125 - accuracy: 0.7125\n",
            "Epoch 182/400\n",
            "3/3 [==============================] - 0s 13ms/step - loss: 1.0067 - accuracy: 0.7250\n",
            "Epoch 183/400\n",
            "3/3 [==============================] - 0s 15ms/step - loss: 1.0006 - accuracy: 0.7250\n",
            "Epoch 184/400\n",
            "3/3 [==============================] - 0s 19ms/step - loss: 0.9946 - accuracy: 0.7500\n",
            "Epoch 185/400\n",
            "3/3 [==============================] - 0s 18ms/step - loss: 0.9880 - accuracy: 0.7625\n",
            "Epoch 186/400\n",
            "3/3 [==============================] - 0s 14ms/step - loss: 0.9830 - accuracy: 0.7625\n",
            "Epoch 187/400\n",
            "3/3 [==============================] - 0s 11ms/step - loss: 0.9775 - accuracy: 0.7625\n",
            "Epoch 188/400\n",
            "3/3 [==============================] - 0s 13ms/step - loss: 0.9711 - accuracy: 0.7875\n",
            "Epoch 189/400\n",
            "3/3 [==============================] - 0s 16ms/step - loss: 0.9646 - accuracy: 0.8125\n",
            "Epoch 190/400\n",
            "3/3 [==============================] - 0s 15ms/step - loss: 0.9578 - accuracy: 0.8250\n",
            "Epoch 191/400\n",
            "3/3 [==============================] - 0s 19ms/step - loss: 0.9533 - accuracy: 0.8375\n",
            "Epoch 192/400\n",
            "3/3 [==============================] - 0s 14ms/step - loss: 0.9479 - accuracy: 0.8125\n",
            "Epoch 193/400\n",
            "3/3 [==============================] - 0s 20ms/step - loss: 0.9423 - accuracy: 0.8000\n",
            "Epoch 194/400\n",
            "3/3 [==============================] - 0s 16ms/step - loss: 0.9359 - accuracy: 0.8000\n",
            "Epoch 195/400\n",
            "3/3 [==============================] - 0s 20ms/step - loss: 0.9305 - accuracy: 0.8125\n",
            "Epoch 196/400\n",
            "3/3 [==============================] - 0s 23ms/step - loss: 0.9242 - accuracy: 0.8250\n",
            "Epoch 197/400\n",
            "3/3 [==============================] - 0s 24ms/step - loss: 0.9188 - accuracy: 0.8250\n",
            "Epoch 198/400\n",
            "3/3 [==============================] - 0s 22ms/step - loss: 0.9125 - accuracy: 0.8250\n",
            "Epoch 199/400\n",
            "3/3 [==============================] - 0s 16ms/step - loss: 0.9063 - accuracy: 0.8125\n",
            "Epoch 200/400\n",
            "3/3 [==============================] - 0s 24ms/step - loss: 0.9014 - accuracy: 0.8250\n",
            "Epoch 201/400\n",
            "3/3 [==============================] - 0s 18ms/step - loss: 0.8973 - accuracy: 0.8500\n",
            "Epoch 202/400\n",
            "3/3 [==============================] - 0s 21ms/step - loss: 0.8921 - accuracy: 0.8625\n",
            "Epoch 203/400\n",
            "3/3 [==============================] - 0s 15ms/step - loss: 0.8861 - accuracy: 0.8625\n",
            "Epoch 204/400\n",
            "3/3 [==============================] - 0s 19ms/step - loss: 0.8798 - accuracy: 0.8375\n",
            "Epoch 205/400\n",
            "3/3 [==============================] - 0s 19ms/step - loss: 0.8738 - accuracy: 0.8500\n",
            "Epoch 206/400\n",
            "3/3 [==============================] - 0s 14ms/step - loss: 0.8686 - accuracy: 0.8500\n",
            "Epoch 207/400\n",
            "3/3 [==============================] - 0s 22ms/step - loss: 0.8637 - accuracy: 0.8625\n",
            "Epoch 208/400\n",
            "3/3 [==============================] - 0s 22ms/step - loss: 0.8583 - accuracy: 0.8375\n",
            "Epoch 209/400\n",
            "3/3 [==============================] - 0s 20ms/step - loss: 0.8516 - accuracy: 0.8375\n",
            "Epoch 210/400\n",
            "3/3 [==============================] - 0s 14ms/step - loss: 0.8466 - accuracy: 0.8250\n",
            "Epoch 211/400\n",
            "3/3 [==============================] - 0s 23ms/step - loss: 0.8417 - accuracy: 0.8250\n",
            "Epoch 212/400\n",
            "3/3 [==============================] - 0s 28ms/step - loss: 0.8366 - accuracy: 0.8500\n",
            "Epoch 213/400\n",
            "3/3 [==============================] - 0s 20ms/step - loss: 0.8304 - accuracy: 0.8375\n",
            "Epoch 214/400\n",
            "3/3 [==============================] - 0s 24ms/step - loss: 0.8259 - accuracy: 0.8500\n",
            "Epoch 215/400\n",
            "3/3 [==============================] - 0s 22ms/step - loss: 0.8194 - accuracy: 0.8500\n",
            "Epoch 216/400\n",
            "3/3 [==============================] - 0s 22ms/step - loss: 0.8137 - accuracy: 0.8625\n",
            "Epoch 217/400\n",
            "3/3 [==============================] - 0s 20ms/step - loss: 0.8095 - accuracy: 0.8750\n",
            "Epoch 218/400\n",
            "3/3 [==============================] - 0s 31ms/step - loss: 0.8036 - accuracy: 0.8875\n",
            "Epoch 219/400\n",
            "3/3 [==============================] - 0s 24ms/step - loss: 0.7982 - accuracy: 0.8875\n",
            "Epoch 220/400\n",
            "3/3 [==============================] - 0s 29ms/step - loss: 0.7921 - accuracy: 0.9000\n",
            "Epoch 221/400\n",
            "3/3 [==============================] - 0s 25ms/step - loss: 0.7874 - accuracy: 0.8875\n",
            "Epoch 222/400\n",
            "3/3 [==============================] - 0s 36ms/step - loss: 0.7829 - accuracy: 0.8750\n",
            "Epoch 223/400\n",
            "3/3 [==============================] - 0s 18ms/step - loss: 0.7777 - accuracy: 0.8875\n",
            "Epoch 224/400\n",
            "3/3 [==============================] - 0s 19ms/step - loss: 0.7723 - accuracy: 0.8750\n",
            "Epoch 225/400\n",
            "3/3 [==============================] - 0s 14ms/step - loss: 0.7675 - accuracy: 0.8875\n",
            "Epoch 226/400\n",
            "3/3 [==============================] - 0s 18ms/step - loss: 0.7625 - accuracy: 0.9000\n",
            "Epoch 227/400\n",
            "3/3 [==============================] - 0s 14ms/step - loss: 0.7571 - accuracy: 0.9000\n",
            "Epoch 228/400\n",
            "3/3 [==============================] - 0s 14ms/step - loss: 0.7514 - accuracy: 0.8875\n",
            "Epoch 229/400\n",
            "3/3 [==============================] - 0s 19ms/step - loss: 0.7459 - accuracy: 0.9000\n",
            "Epoch 230/400\n",
            "3/3 [==============================] - 0s 14ms/step - loss: 0.7408 - accuracy: 0.9125\n",
            "Epoch 231/400\n",
            "3/3 [==============================] - 0s 15ms/step - loss: 0.7352 - accuracy: 0.9000\n",
            "Epoch 232/400\n",
            "3/3 [==============================] - 0s 17ms/step - loss: 0.7305 - accuracy: 0.9125\n",
            "Epoch 233/400\n",
            "3/3 [==============================] - 0s 17ms/step - loss: 0.7283 - accuracy: 0.9000\n",
            "Epoch 234/400\n",
            "3/3 [==============================] - 0s 15ms/step - loss: 0.7198 - accuracy: 0.8875\n",
            "Epoch 235/400\n",
            "3/3 [==============================] - 0s 17ms/step - loss: 0.7153 - accuracy: 0.9000\n",
            "Epoch 236/400\n",
            "3/3 [==============================] - 0s 24ms/step - loss: 0.7101 - accuracy: 0.9000\n",
            "Epoch 237/400\n",
            "3/3 [==============================] - 0s 19ms/step - loss: 0.7051 - accuracy: 0.8875\n",
            "Epoch 238/400\n",
            "3/3 [==============================] - 0s 18ms/step - loss: 0.6989 - accuracy: 0.9000\n",
            "Epoch 239/400\n",
            "3/3 [==============================] - 0s 20ms/step - loss: 0.6944 - accuracy: 0.9000\n",
            "Epoch 240/400\n",
            "3/3 [==============================] - 0s 14ms/step - loss: 0.6897 - accuracy: 0.9000\n",
            "Epoch 241/400\n",
            "3/3 [==============================] - 0s 16ms/step - loss: 0.6836 - accuracy: 0.9000\n",
            "Epoch 242/400\n",
            "3/3 [==============================] - 0s 18ms/step - loss: 0.6791 - accuracy: 0.9000\n",
            "Epoch 243/400\n",
            "3/3 [==============================] - 0s 13ms/step - loss: 0.6732 - accuracy: 0.9125\n",
            "Epoch 244/400\n",
            "3/3 [==============================] - 0s 14ms/step - loss: 0.6675 - accuracy: 0.9125\n",
            "Epoch 245/400\n",
            "3/3 [==============================] - 0s 21ms/step - loss: 0.6649 - accuracy: 0.9125\n",
            "Epoch 246/400\n",
            "3/3 [==============================] - 0s 22ms/step - loss: 0.6581 - accuracy: 0.9250\n",
            "Epoch 247/400\n",
            "3/3 [==============================] - 0s 18ms/step - loss: 0.6516 - accuracy: 0.9250\n",
            "Epoch 248/400\n",
            "3/3 [==============================] - 0s 19ms/step - loss: 0.6465 - accuracy: 0.9250\n",
            "Epoch 249/400\n",
            "3/3 [==============================] - 0s 22ms/step - loss: 0.6416 - accuracy: 0.9375\n",
            "Epoch 250/400\n",
            "3/3 [==============================] - 0s 25ms/step - loss: 0.6373 - accuracy: 0.9375\n",
            "Epoch 251/400\n",
            "3/3 [==============================] - 0s 24ms/step - loss: 0.6306 - accuracy: 0.9375\n",
            "Epoch 252/400\n",
            "3/3 [==============================] - 0s 24ms/step - loss: 0.6260 - accuracy: 0.9375\n",
            "Epoch 253/400\n",
            "3/3 [==============================] - 0s 18ms/step - loss: 0.6207 - accuracy: 0.9250\n",
            "Epoch 254/400\n",
            "3/3 [==============================] - 0s 23ms/step - loss: 0.6151 - accuracy: 0.9250\n",
            "Epoch 255/400\n",
            "3/3 [==============================] - 0s 30ms/step - loss: 0.6105 - accuracy: 0.9125\n",
            "Epoch 256/400\n",
            "3/3 [==============================] - 0s 17ms/step - loss: 0.6062 - accuracy: 0.9125\n",
            "Epoch 257/400\n",
            "3/3 [==============================] - 0s 17ms/step - loss: 0.6017 - accuracy: 0.9125\n",
            "Epoch 258/400\n",
            "3/3 [==============================] - 0s 15ms/step - loss: 0.5940 - accuracy: 0.9125\n",
            "Epoch 259/400\n",
            "3/3 [==============================] - 0s 14ms/step - loss: 0.5893 - accuracy: 0.9125\n",
            "Epoch 260/400\n",
            "3/3 [==============================] - 0s 15ms/step - loss: 0.5837 - accuracy: 0.9375\n",
            "Epoch 261/400\n",
            "3/3 [==============================] - 0s 15ms/step - loss: 0.5788 - accuracy: 0.9375\n",
            "Epoch 262/400\n",
            "3/3 [==============================] - 0s 15ms/step - loss: 0.5747 - accuracy: 0.9500\n",
            "Epoch 263/400\n",
            "3/3 [==============================] - 0s 19ms/step - loss: 0.5691 - accuracy: 0.9500\n",
            "Epoch 264/400\n",
            "3/3 [==============================] - 0s 30ms/step - loss: 0.5641 - accuracy: 0.9500\n",
            "Epoch 265/400\n",
            "3/3 [==============================] - 0s 19ms/step - loss: 0.5589 - accuracy: 0.9625\n",
            "Epoch 266/400\n",
            "3/3 [==============================] - 0s 21ms/step - loss: 0.5543 - accuracy: 0.9625\n",
            "Epoch 267/400\n",
            "3/3 [==============================] - 0s 21ms/step - loss: 0.5492 - accuracy: 0.9625\n",
            "Epoch 268/400\n",
            "3/3 [==============================] - 0s 19ms/step - loss: 0.5444 - accuracy: 0.9500\n",
            "Epoch 269/400\n",
            "3/3 [==============================] - 0s 13ms/step - loss: 0.5399 - accuracy: 0.9375\n",
            "Epoch 270/400\n",
            "3/3 [==============================] - 0s 20ms/step - loss: 0.5350 - accuracy: 0.9250\n",
            "Epoch 271/400\n",
            "3/3 [==============================] - 0s 17ms/step - loss: 0.5307 - accuracy: 0.9375\n",
            "Epoch 272/400\n",
            "3/3 [==============================] - 0s 17ms/step - loss: 0.5274 - accuracy: 0.9250\n",
            "Epoch 273/400\n",
            "3/3 [==============================] - 0s 29ms/step - loss: 0.5229 - accuracy: 0.9250\n",
            "Epoch 274/400\n",
            "3/3 [==============================] - 0s 15ms/step - loss: 0.5168 - accuracy: 0.9250\n",
            "Epoch 275/400\n",
            "3/3 [==============================] - 0s 15ms/step - loss: 0.5126 - accuracy: 0.9250\n",
            "Epoch 276/400\n",
            "3/3 [==============================] - 0s 18ms/step - loss: 0.5069 - accuracy: 0.9375\n",
            "Epoch 277/400\n",
            "3/3 [==============================] - 0s 14ms/step - loss: 0.5034 - accuracy: 0.9375\n",
            "Epoch 278/400\n",
            "3/3 [==============================] - 0s 16ms/step - loss: 0.4981 - accuracy: 0.9375\n",
            "Epoch 279/400\n",
            "3/3 [==============================] - 0s 15ms/step - loss: 0.4939 - accuracy: 0.9375\n",
            "Epoch 280/400\n",
            "3/3 [==============================] - 0s 12ms/step - loss: 0.4901 - accuracy: 0.9500\n",
            "Epoch 281/400\n",
            "3/3 [==============================] - 0s 10ms/step - loss: 0.4864 - accuracy: 0.9500\n",
            "Epoch 282/400\n",
            "3/3 [==============================] - 0s 10ms/step - loss: 0.4822 - accuracy: 0.9500\n",
            "Epoch 283/400\n",
            "3/3 [==============================] - 0s 17ms/step - loss: 0.4772 - accuracy: 0.9500\n",
            "Epoch 284/400\n",
            "3/3 [==============================] - 0s 12ms/step - loss: 0.4734 - accuracy: 0.9500\n",
            "Epoch 285/400\n",
            "3/3 [==============================] - 0s 13ms/step - loss: 0.4685 - accuracy: 0.9625\n",
            "Epoch 286/400\n",
            "3/3 [==============================] - 0s 16ms/step - loss: 0.4638 - accuracy: 0.9500\n",
            "Epoch 287/400\n",
            "3/3 [==============================] - 0s 10ms/step - loss: 0.4607 - accuracy: 0.9500\n",
            "Epoch 288/400\n",
            "3/3 [==============================] - 0s 10ms/step - loss: 0.4568 - accuracy: 0.9375\n",
            "Epoch 289/400\n",
            "3/3 [==============================] - 0s 10ms/step - loss: 0.4532 - accuracy: 0.9375\n",
            "Epoch 290/400\n",
            "3/3 [==============================] - 0s 11ms/step - loss: 0.4487 - accuracy: 0.9375\n",
            "Epoch 291/400\n",
            "3/3 [==============================] - 0s 9ms/step - loss: 0.4441 - accuracy: 0.9375\n",
            "Epoch 292/400\n",
            "3/3 [==============================] - 0s 25ms/step - loss: 0.4400 - accuracy: 0.9375\n",
            "Epoch 293/400\n",
            "3/3 [==============================] - 0s 14ms/step - loss: 0.4360 - accuracy: 0.9375\n",
            "Epoch 294/400\n",
            "3/3 [==============================] - 0s 15ms/step - loss: 0.4318 - accuracy: 0.9500\n",
            "Epoch 295/400\n",
            "3/3 [==============================] - 0s 15ms/step - loss: 0.4285 - accuracy: 0.9500\n",
            "Epoch 296/400\n",
            "3/3 [==============================] - 0s 16ms/step - loss: 0.4248 - accuracy: 0.9500\n",
            "Epoch 297/400\n",
            "3/3 [==============================] - 0s 11ms/step - loss: 0.4214 - accuracy: 0.9500\n",
            "Epoch 298/400\n",
            "3/3 [==============================] - 0s 11ms/step - loss: 0.4180 - accuracy: 0.9625\n",
            "Epoch 299/400\n",
            "3/3 [==============================] - 0s 11ms/step - loss: 0.4143 - accuracy: 0.9625\n",
            "Epoch 300/400\n",
            "3/3 [==============================] - 0s 10ms/step - loss: 0.4115 - accuracy: 0.9625\n",
            "Epoch 301/400\n",
            "3/3 [==============================] - 0s 11ms/step - loss: 0.4071 - accuracy: 0.9500\n",
            "Epoch 302/400\n",
            "3/3 [==============================] - 0s 15ms/step - loss: 0.4038 - accuracy: 0.9500\n",
            "Epoch 303/400\n",
            "3/3 [==============================] - 0s 13ms/step - loss: 0.4002 - accuracy: 0.9500\n",
            "Epoch 304/400\n",
            "3/3 [==============================] - 0s 16ms/step - loss: 0.3969 - accuracy: 0.9500\n",
            "Epoch 305/400\n",
            "3/3 [==============================] - 0s 16ms/step - loss: 0.3934 - accuracy: 0.9500\n",
            "Epoch 306/400\n",
            "3/3 [==============================] - 0s 15ms/step - loss: 0.3905 - accuracy: 0.9500\n",
            "Epoch 307/400\n",
            "3/3 [==============================] - 0s 25ms/step - loss: 0.3868 - accuracy: 0.9500\n",
            "Epoch 308/400\n",
            "3/3 [==============================] - 0s 16ms/step - loss: 0.3836 - accuracy: 0.9500\n",
            "Epoch 309/400\n",
            "3/3 [==============================] - 0s 17ms/step - loss: 0.3804 - accuracy: 0.9500\n",
            "Epoch 310/400\n",
            "3/3 [==============================] - 0s 18ms/step - loss: 0.3773 - accuracy: 0.9500\n",
            "Epoch 311/400\n",
            "3/3 [==============================] - 0s 10ms/step - loss: 0.3741 - accuracy: 0.9500\n",
            "Epoch 312/400\n",
            "3/3 [==============================] - 0s 10ms/step - loss: 0.3705 - accuracy: 0.9500\n",
            "Epoch 313/400\n",
            "3/3 [==============================] - 0s 12ms/step - loss: 0.3675 - accuracy: 0.9750\n",
            "Epoch 314/400\n",
            "3/3 [==============================] - 0s 10ms/step - loss: 0.3647 - accuracy: 0.9625\n",
            "Epoch 315/400\n",
            "3/3 [==============================] - 0s 11ms/step - loss: 0.3624 - accuracy: 0.9625\n",
            "Epoch 316/400\n",
            "3/3 [==============================] - 0s 13ms/step - loss: 0.3599 - accuracy: 0.9500\n",
            "Epoch 317/400\n",
            "3/3 [==============================] - 0s 12ms/step - loss: 0.3560 - accuracy: 0.9625\n",
            "Epoch 318/400\n",
            "3/3 [==============================] - 0s 15ms/step - loss: 0.3534 - accuracy: 0.9500\n",
            "Epoch 319/400\n",
            "3/3 [==============================] - 0s 20ms/step - loss: 0.3496 - accuracy: 0.9625\n",
            "Epoch 320/400\n",
            "3/3 [==============================] - 0s 17ms/step - loss: 0.3473 - accuracy: 0.9625\n",
            "Epoch 321/400\n",
            "3/3 [==============================] - 0s 20ms/step - loss: 0.3446 - accuracy: 0.9500\n",
            "Epoch 322/400\n",
            "3/3 [==============================] - 0s 20ms/step - loss: 0.3417 - accuracy: 0.9625\n",
            "Epoch 323/400\n",
            "3/3 [==============================] - 0s 24ms/step - loss: 0.3390 - accuracy: 0.9500\n",
            "Epoch 324/400\n",
            "3/3 [==============================] - 0s 13ms/step - loss: 0.3363 - accuracy: 0.9500\n",
            "Epoch 325/400\n",
            "3/3 [==============================] - 0s 14ms/step - loss: 0.3339 - accuracy: 0.9500\n",
            "Epoch 326/400\n",
            "3/3 [==============================] - 0s 16ms/step - loss: 0.3312 - accuracy: 0.9500\n",
            "Epoch 327/400\n",
            "3/3 [==============================] - 0s 13ms/step - loss: 0.3283 - accuracy: 0.9500\n",
            "Epoch 328/400\n",
            "3/3 [==============================] - 0s 14ms/step - loss: 0.3261 - accuracy: 0.9750\n",
            "Epoch 329/400\n",
            "3/3 [==============================] - 0s 16ms/step - loss: 0.3237 - accuracy: 0.9750\n",
            "Epoch 330/400\n",
            "3/3 [==============================] - 0s 20ms/step - loss: 0.3208 - accuracy: 0.9750\n",
            "Epoch 331/400\n",
            "3/3 [==============================] - 0s 22ms/step - loss: 0.3182 - accuracy: 0.9625\n",
            "Epoch 332/400\n",
            "3/3 [==============================] - 0s 18ms/step - loss: 0.3161 - accuracy: 0.9625\n",
            "Epoch 333/400\n",
            "3/3 [==============================] - 0s 17ms/step - loss: 0.3134 - accuracy: 0.9625\n",
            "Epoch 334/400\n",
            "3/3 [==============================] - 0s 23ms/step - loss: 0.3112 - accuracy: 0.9625\n",
            "Epoch 335/400\n",
            "3/3 [==============================] - 0s 20ms/step - loss: 0.3084 - accuracy: 0.9625\n",
            "Epoch 336/400\n",
            "3/3 [==============================] - 0s 17ms/step - loss: 0.3061 - accuracy: 0.9500\n",
            "Epoch 337/400\n",
            "3/3 [==============================] - 0s 22ms/step - loss: 0.3044 - accuracy: 0.9500\n",
            "Epoch 338/400\n",
            "3/3 [==============================] - 0s 18ms/step - loss: 0.3016 - accuracy: 0.9500\n",
            "Epoch 339/400\n",
            "3/3 [==============================] - 0s 15ms/step - loss: 0.2996 - accuracy: 0.9500\n",
            "Epoch 340/400\n",
            "3/3 [==============================] - 0s 24ms/step - loss: 0.2978 - accuracy: 0.9750\n",
            "Epoch 341/400\n",
            "3/3 [==============================] - 0s 21ms/step - loss: 0.2952 - accuracy: 0.9625\n",
            "Epoch 342/400\n",
            "3/3 [==============================] - 0s 27ms/step - loss: 0.2931 - accuracy: 0.9625\n",
            "Epoch 343/400\n",
            "3/3 [==============================] - 0s 23ms/step - loss: 0.2907 - accuracy: 0.9625\n",
            "Epoch 344/400\n",
            "3/3 [==============================] - 0s 38ms/step - loss: 0.2888 - accuracy: 0.9625\n",
            "Epoch 345/400\n",
            "3/3 [==============================] - 0s 21ms/step - loss: 0.2871 - accuracy: 0.9750\n",
            "Epoch 346/400\n",
            "3/3 [==============================] - 0s 35ms/step - loss: 0.2843 - accuracy: 0.9750\n",
            "Epoch 347/400\n",
            "3/3 [==============================] - 0s 23ms/step - loss: 0.2833 - accuracy: 0.9750\n",
            "Epoch 348/400\n",
            "3/3 [==============================] - 0s 27ms/step - loss: 0.2809 - accuracy: 0.9750\n",
            "Epoch 349/400\n",
            "3/3 [==============================] - 0s 27ms/step - loss: 0.2785 - accuracy: 0.9625\n",
            "Epoch 350/400\n",
            "3/3 [==============================] - 0s 17ms/step - loss: 0.2763 - accuracy: 0.9625\n",
            "Epoch 351/400\n",
            "3/3 [==============================] - 0s 14ms/step - loss: 0.2749 - accuracy: 0.9625\n",
            "Epoch 352/400\n",
            "3/3 [==============================] - 0s 16ms/step - loss: 0.2729 - accuracy: 0.9625\n",
            "Epoch 353/400\n",
            "3/3 [==============================] - 0s 20ms/step - loss: 0.2709 - accuracy: 0.9625\n",
            "Epoch 354/400\n",
            "3/3 [==============================] - 0s 13ms/step - loss: 0.2687 - accuracy: 0.9750\n",
            "Epoch 355/400\n",
            "3/3 [==============================] - 0s 18ms/step - loss: 0.2666 - accuracy: 0.9750\n",
            "Epoch 356/400\n",
            "3/3 [==============================] - 0s 20ms/step - loss: 0.2649 - accuracy: 0.9750\n",
            "Epoch 357/400\n",
            "3/3 [==============================] - 0s 25ms/step - loss: 0.2634 - accuracy: 0.9750\n",
            "Epoch 358/400\n",
            "3/3 [==============================] - 0s 21ms/step - loss: 0.2617 - accuracy: 0.9500\n",
            "Epoch 359/400\n",
            "3/3 [==============================] - 0s 21ms/step - loss: 0.2596 - accuracy: 0.9625\n",
            "Epoch 360/400\n",
            "3/3 [==============================] - 0s 20ms/step - loss: 0.2577 - accuracy: 0.9625\n",
            "Epoch 361/400\n",
            "3/3 [==============================] - 0s 23ms/step - loss: 0.2560 - accuracy: 0.9625\n",
            "Epoch 362/400\n",
            "3/3 [==============================] - 0s 19ms/step - loss: 0.2543 - accuracy: 0.9625\n",
            "Epoch 363/400\n",
            "3/3 [==============================] - 0s 25ms/step - loss: 0.2531 - accuracy: 0.9500\n",
            "Epoch 364/400\n",
            "3/3 [==============================] - 0s 22ms/step - loss: 0.2514 - accuracy: 0.9500\n",
            "Epoch 365/400\n",
            "3/3 [==============================] - 0s 16ms/step - loss: 0.2497 - accuracy: 0.9500\n",
            "Epoch 366/400\n",
            "3/3 [==============================] - 0s 20ms/step - loss: 0.2479 - accuracy: 0.9625\n",
            "Epoch 367/400\n",
            "3/3 [==============================] - 0s 15ms/step - loss: 0.2464 - accuracy: 0.9750\n",
            "Epoch 368/400\n",
            "3/3 [==============================] - 0s 16ms/step - loss: 0.2445 - accuracy: 0.9750\n",
            "Epoch 369/400\n",
            "3/3 [==============================] - 0s 16ms/step - loss: 0.2428 - accuracy: 0.9750\n",
            "Epoch 370/400\n",
            "3/3 [==============================] - 0s 15ms/step - loss: 0.2409 - accuracy: 0.9750\n",
            "Epoch 371/400\n",
            "3/3 [==============================] - 0s 13ms/step - loss: 0.2395 - accuracy: 0.9750\n",
            "Epoch 372/400\n",
            "3/3 [==============================] - 0s 18ms/step - loss: 0.2385 - accuracy: 0.9625\n",
            "Epoch 373/400\n",
            "3/3 [==============================] - 0s 13ms/step - loss: 0.2372 - accuracy: 0.9625\n",
            "Epoch 374/400\n",
            "3/3 [==============================] - 0s 15ms/step - loss: 0.2352 - accuracy: 0.9625\n",
            "Epoch 375/400\n",
            "3/3 [==============================] - 0s 12ms/step - loss: 0.2335 - accuracy: 0.9750\n",
            "Epoch 376/400\n",
            "3/3 [==============================] - 0s 13ms/step - loss: 0.2319 - accuracy: 0.9750\n",
            "Epoch 377/400\n",
            "3/3 [==============================] - 0s 13ms/step - loss: 0.2309 - accuracy: 0.9750\n",
            "Epoch 378/400\n",
            "3/3 [==============================] - 0s 18ms/step - loss: 0.2300 - accuracy: 0.9500\n",
            "Epoch 379/400\n",
            "3/3 [==============================] - 0s 17ms/step - loss: 0.2286 - accuracy: 0.9500\n",
            "Epoch 380/400\n",
            "3/3 [==============================] - 0s 16ms/step - loss: 0.2272 - accuracy: 0.9500\n",
            "Epoch 381/400\n",
            "3/3 [==============================] - 0s 17ms/step - loss: 0.2251 - accuracy: 0.9875\n",
            "Epoch 382/400\n",
            "3/3 [==============================] - 0s 13ms/step - loss: 0.2241 - accuracy: 0.9750\n",
            "Epoch 383/400\n",
            "3/3 [==============================] - 0s 29ms/step - loss: 0.2224 - accuracy: 0.9750\n",
            "Epoch 384/400\n",
            "3/3 [==============================] - 0s 13ms/step - loss: 0.2212 - accuracy: 0.9750\n",
            "Epoch 385/400\n",
            "3/3 [==============================] - 0s 19ms/step - loss: 0.2200 - accuracy: 0.9875\n",
            "Epoch 386/400\n",
            "3/3 [==============================] - 0s 14ms/step - loss: 0.2188 - accuracy: 0.9750\n",
            "Epoch 387/400\n",
            "3/3 [==============================] - 0s 26ms/step - loss: 0.2172 - accuracy: 0.9750\n",
            "Epoch 388/400\n",
            "3/3 [==============================] - 0s 21ms/step - loss: 0.2158 - accuracy: 0.9750\n",
            "Epoch 389/400\n",
            "3/3 [==============================] - 0s 18ms/step - loss: 0.2142 - accuracy: 0.9875\n",
            "Epoch 390/400\n",
            "3/3 [==============================] - 0s 20ms/step - loss: 0.2135 - accuracy: 0.9750\n",
            "Epoch 391/400\n",
            "3/3 [==============================] - 0s 16ms/step - loss: 0.2116 - accuracy: 0.9750\n",
            "Epoch 392/400\n",
            "3/3 [==============================] - 0s 16ms/step - loss: 0.2102 - accuracy: 0.9750\n",
            "Epoch 393/400\n",
            "3/3 [==============================] - 0s 17ms/step - loss: 0.2089 - accuracy: 0.9750\n",
            "Epoch 394/400\n",
            "3/3 [==============================] - 0s 14ms/step - loss: 0.2080 - accuracy: 0.9750\n",
            "Epoch 395/400\n",
            "3/3 [==============================] - 0s 16ms/step - loss: 0.2068 - accuracy: 0.9750\n",
            "Epoch 396/400\n",
            "3/3 [==============================] - 0s 16ms/step - loss: 0.2056 - accuracy: 0.9750\n",
            "Epoch 397/400\n",
            "3/3 [==============================] - 0s 32ms/step - loss: 0.2042 - accuracy: 0.9750\n",
            "Epoch 398/400\n",
            "3/3 [==============================] - 0s 18ms/step - loss: 0.2028 - accuracy: 0.9750\n",
            "Epoch 399/400\n",
            "3/3 [==============================] - 0s 25ms/step - loss: 0.2015 - accuracy: 0.9750\n",
            "Epoch 400/400\n",
            "3/3 [==============================] - 0s 18ms/step - loss: 0.2008 - accuracy: 0.9750\n"
          ]
        }
      ]
    },
    {
      "cell_type": "markdown",
      "source": [
        "## Model Analysis"
      ],
      "metadata": {
        "id": "YazV-UcgSIwb"
      }
    },
    {
      "cell_type": "code",
      "source": [
        "plt.figure(figsize=(14, 5))\n",
        "plt.subplot(1, 2, 1)\n",
        "plt.plot(train.history['accuracy'], label='Training Set Accuracy')\n",
        "plt.legend(loc = 'lower right')\n",
        "plt.title('Accuracy')\n",
        "\n",
        "\n",
        "plt.subplot(1, 2, 2)\n",
        "plt.plot(train.history['loss'], label='Training Set Loss')\n",
        "plt.legend(loc = 'upper right')\n",
        "plt.title('Loss')\n",
        "plt.show()"
      ],
      "metadata": {
        "colab": {
          "base_uri": "https://localhost:8080/",
          "height": 336
        },
        "id": "6AS57iHuG2_4",
        "outputId": "87f03b50-8334-4861-ca2a-a54520dac112"
      },
      "execution_count": null,
      "outputs": [
        {
          "output_type": "display_data",
          "data": {
            "text/plain": [
              "<Figure size 1008x360 with 2 Axes>"
            ],
            "image/png": "[encoded data removed]"
          },
          "metadata": {
            "needs_background": "light"
          }
        }
      ]
    },
    {
      "cell_type": "markdown",
      "source": [
        "## Testing Chatbot Dan Tambahkan Suara Pada Chatbot"
      ],
      "metadata": {
        "id": "LAmzZVaSSLuy"
      }
    },
    {
      "cell_type": "code",
      "source": [
        "# Membuat Input Chat\n",
        "while True:\n",
        "  texts_p = []\n",
        "  prediction_input = input('👨‍🦰 Kamu : ')\n",
        "  \n",
        "  # Menghapus punktuasi dan konversi ke huruf kecil\n",
        "  prediction_input = [letters.lower() for letters in prediction_input if letters not in string.punctuation]\n",
        "  prediction_input = ''.join(prediction_input)\n",
        "  texts_p.append(prediction_input)\n",
        "\n",
        "  # Tokenisasi dan Padding\n",
        "  prediction_input = tokenizer.texts_to_sequences(texts_p)\n",
        "  prediction_input = np.array(prediction_input).reshape(-1)\n",
        "  prediction_input = pad_sequences([prediction_input],input_shape)\n",
        "\n",
        "\n",
        "  # Mendapatkan hasil keluaran pada model \n",
        "  output = model.predict(prediction_input)\n",
        "  output = output.argmax()\n",
        "\n",
        "  # Menemukan respon sesuai data tag dan memainkan voice bot\n",
        "  response_tag = le.inverse_transform([output])[0]\n",
        "  print(\"🤖 KadekBot : \", random.choice(responses[response_tag]))\n",
        "  tts = gTTS(random.choice(responses[response_tag]), lang='id')\n",
        "  # Simpan model voice bot ke dalam Google Drive\n",
        "  tts.save('/content/drive/MyDrive/msib/KadekBot.wav')\n",
        "  time.sleep(0.08)\n",
        "  # Load model voice bot from Google Drive\n",
        "  ipd.display(ipd.Audio('/content/drive/MyDrive/msib/KadekBot.wav', autoplay=False))\n",
        "  print(\"=\"*60 + \"\\n\")\n",
        "  # Tambahkan respon 'goodbye' agar bot bisa berhenti\n",
        "  if response_tag == \"goodbye\":\n",
        "    break"
      ],
      "metadata": {
        "colab": {
          "base_uri": "https://localhost:8080/",
          "height": 910
        },
        "id": "gRHCtqQgH8U-",
        "outputId": "226619d5-08ea-4513-8a98-fece25ec2a4e"
      },
      "execution_count": null,
      "outputs": [
        {
          "output_type": "stream",
          "name": "stdout",
          "text": [
            "👨‍🦰 Kamu : dhilah\n",
            "🤖 KadekBot :  Helo! Ini Kadekbot. Lagi kepo tentang kampus merdeka ya?\n"
          ]
        },
        {
          "output_type": "display_data",
          "data": {
            "text/plain": [
              "<IPython.lib.display.Audio object>"
            ],
            "text/html": [
              "\n",
              "                <audio  controls=\"controls\" >\n",
              "                    <source src=\"data:audio/x-wav;base64,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\" type=\"audio/x-wav\" />\n",
              "                    Your browser does not support the audio element.\n",
              "                </audio>\n",
              "              "
            ]
          },
          "metadata": {}
        },
        {
          "output_type": "stream",
          "name": "stdout",
          "text": [
            "============================================================\n",
            "\n",
            "👨‍🦰 Kamu : iya\n",
            "🤖 KadekBot :  Halo! Saya Kadekbot, salam kenal ya! Mau tau tentang kampus merdeka, kan?\n"
          ]
        },
        {
          "output_type": "display_data",
          "data": {
            "text/plain": [
              "<IPython.lib.display.Audio object>"
            ],
            "text/html": [
              "\n",
              "                <audio  controls=\"controls\" >\n",
              "                    <source src=\"data:audio/x-wav;base64,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\" type=\"audio/x-wav\" />\n",
              "                    Your browser does not support the audio element.\n",
              "                </audio>\n",
              "              "
            ]
          },
          "metadata": {}
        },
        {
          "output_type": "stream",
          "name": "stdout",
          "text": [
            "============================================================\n",
            "\n",
            "👨‍🦰 Kamu : goodbye\n",
            "🤖 KadekBot :  Helo! Ini Kadekbot. Lagi kepo tentang kampus merdeka ya?\n"
          ]
        },
        {
          "output_type": "display_data",
          "data": {
            "text/plain": [
              "<IPython.lib.display.Audio object>"
            ],
            "text/html": [
              "\n",
              "                <audio  controls=\"controls\" >\n",
              "                    <source src=\"data:audio/x-wav;base64,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\" type=\"audio/x-wav\" />\n",
              "                    Your browser does not support the audio element.\n",
              "                </audio>\n",
              "              "
            ]
          },
          "metadata": {}
        },
        {
          "output_type": "stream",
          "name": "stdout",
          "text": [
            "============================================================\n",
            "\n",
            "👨‍🦰 Kamu : goodbye\n",
            "🤖 KadekBot :  Helo! Ini Kadekbot. Lagi kepo tentang kampus merdeka ya?\n"
          ]
        },
        {
          "output_type": "display_data",
          "data": {
            "text/plain": [
              "<IPython.lib.display.Audio object>"
            ],
            "text/html": [
              "\n",
              "                <audio  controls=\"controls\" >\n",
              "                    <source src=\"data:audio/x-wav;base64,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\" type=\"audio/x-wav\" />\n",
              "                    Your browser does not support the audio element.\n",
              "                </audio>\n",
              "              "
            ]
          },
          "metadata": {}
        },
        {
          "output_type": "stream",
          "name": "stdout",
          "text": [
            "============================================================\n",
            "\n"
          ]
        },
        {
          "output_type": "error",
          "ename": "KeyboardInterrupt",
          "evalue": "ignored",
          "traceback": [
            "\u001b[0;31m---------------------------------------------------------------------------\u001b[0m",
            "\u001b[0;31mKeyboardInterrupt\u001b[0m                         Traceback (most recent call last)",
            "\u001b[0;32m<ipython-input-27-cdb6b3527687>\u001b[0m in \u001b[0;36m<module>\u001b[0;34m\u001b[0m\n\u001b[1;32m      2\u001b[0m \u001b[0;32mwhile\u001b[0m \u001b[0;32mTrue\u001b[0m\u001b[0;34m:\u001b[0m\u001b[0;34m\u001b[0m\u001b[0;34m\u001b[0m\u001b[0m\n\u001b[1;32m      3\u001b[0m   \u001b[0mtexts_p\u001b[0m \u001b[0;34m=\u001b[0m \u001b[0;34m[\u001b[0m\u001b[0;34m]\u001b[0m\u001b[0;34m\u001b[0m\u001b[0;34m\u001b[0m\u001b[0m\n\u001b[0;32m----> 4\u001b[0;31m   \u001b[0mprediction_input\u001b[0m \u001b[0;34m=\u001b[0m \u001b[0minput\u001b[0m\u001b[0;34m(\u001b[0m\u001b[0;34m'👨‍🦰 Kamu : '\u001b[0m\u001b[0;34m)\u001b[0m\u001b[0;34m\u001b[0m\u001b[0;34m\u001b[0m\u001b[0m\n\u001b[0m\u001b[1;32m      5\u001b[0m \u001b[0;34m\u001b[0m\u001b[0m\n\u001b[1;32m      6\u001b[0m   \u001b[0;31m# Menghapus punktuasi dan konversi ke huruf kecil\u001b[0m\u001b[0;34m\u001b[0m\u001b[0;34m\u001b[0m\u001b[0;34m\u001b[0m\u001b[0m\n",
            "\u001b[0;32m/usr/local/lib/python3.7/dist-packages/ipykernel/kernelbase.py\u001b[0m in \u001b[0;36mraw_input\u001b[0;34m(self, prompt)\u001b[0m\n\u001b[1;32m    861\u001b[0m             \u001b[0mself\u001b[0m\u001b[0;34m.\u001b[0m\u001b[0m_parent_ident\u001b[0m\u001b[0;34m,\u001b[0m\u001b[0;34m\u001b[0m\u001b[0;34m\u001b[0m\u001b[0m\n\u001b[1;32m    862\u001b[0m             \u001b[0mself\u001b[0m\u001b[0;34m.\u001b[0m\u001b[0m_parent_header\u001b[0m\u001b[0;34m,\u001b[0m\u001b[0;34m\u001b[0m\u001b[0;34m\u001b[0m\u001b[0m\n\u001b[0;32m--> 863\u001b[0;31m             \u001b[0mpassword\u001b[0m\u001b[0;34m=\u001b[0m\u001b[0;32mFalse\u001b[0m\u001b[0;34m,\u001b[0m\u001b[0;34m\u001b[0m\u001b[0;34m\u001b[0m\u001b[0m\n\u001b[0m\u001b[1;32m    864\u001b[0m         )\n\u001b[1;32m    865\u001b[0m \u001b[0;34m\u001b[0m\u001b[0m\n",
            "\u001b[0;32m/usr/local/lib/python3.7/dist-packages/ipykernel/kernelbase.py\u001b[0m in \u001b[0;36m_input_request\u001b[0;34m(self, prompt, ident, parent, password)\u001b[0m\n\u001b[1;32m    902\u001b[0m             \u001b[0;32mexcept\u001b[0m \u001b[0mKeyboardInterrupt\u001b[0m\u001b[0;34m:\u001b[0m\u001b[0;34m\u001b[0m\u001b[0;34m\u001b[0m\u001b[0m\n\u001b[1;32m    903\u001b[0m                 \u001b[0;31m# re-raise KeyboardInterrupt, to truncate traceback\u001b[0m\u001b[0;34m\u001b[0m\u001b[0;34m\u001b[0m\u001b[0;34m\u001b[0m\u001b[0m\n\u001b[0;32m--> 904\u001b[0;31m                 \u001b[0;32mraise\u001b[0m \u001b[0mKeyboardInterrupt\u001b[0m\u001b[0;34m(\u001b[0m\u001b[0;34m\"Interrupted by user\"\u001b[0m\u001b[0;34m)\u001b[0m \u001b[0;32mfrom\u001b[0m \u001b[0;32mNone\u001b[0m\u001b[0;34m\u001b[0m\u001b[0;34m\u001b[0m\u001b[0m\n\u001b[0m\u001b[1;32m    905\u001b[0m             \u001b[0;32mexcept\u001b[0m \u001b[0mException\u001b[0m \u001b[0;32mas\u001b[0m \u001b[0me\u001b[0m\u001b[0;34m:\u001b[0m\u001b[0;34m\u001b[0m\u001b[0;34m\u001b[0m\u001b[0m\n\u001b[1;32m    906\u001b[0m                 \u001b[0mself\u001b[0m\u001b[0;34m.\u001b[0m\u001b[0mlog\u001b[0m\u001b[0;34m.\u001b[0m\u001b[0mwarning\u001b[0m\u001b[0;34m(\u001b[0m\u001b[0;34m\"Invalid Message:\"\u001b[0m\u001b[0;34m,\u001b[0m \u001b[0mexc_info\u001b[0m\u001b[0;34m=\u001b[0m\u001b[0;32mTrue\u001b[0m\u001b[0;34m)\u001b[0m\u001b[0;34m\u001b[0m\u001b[0;34m\u001b[0m\u001b[0m\n",
            "\u001b[0;31mKeyboardInterrupt\u001b[0m: Interrupted by user"
          ]
        }
      ]
    },
    {
      "cell_type": "markdown",
      "source": [
        "Save The Model"
      ],
      "metadata": {
        "id": "FtUOtUtWSPix"
      }
    },
    {
      "cell_type": "code",
      "source": [
        "# Simpan model dalam bentuk format file .h5 atau .pkl (pickle)\n",
        "model.save('/content/drive/MyDrive/msib/chat_model.h5')\n",
        "\n",
        "print('Model Created Successfully!')"
      ],
      "metadata": {
        "colab": {
          "base_uri": "https://localhost:8080/"
        },
        "id": "6dQTZlvJMWZl",
        "outputId": "4c67f1fc-56f2-464b-8018-fbedc06e031d"
      },
      "execution_count": null,
      "outputs": [
        {
          "output_type": "stream",
          "name": "stdout",
          "text": [
            "Model Created Successfully!\n"
          ]
        }
      ]
    }
  ]
}